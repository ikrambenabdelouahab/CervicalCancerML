{
  "nbformat": 4,
  "nbformat_minor": 0,
  "metadata": {
    "colab": {
      "provenance": [],
      "collapsed_sections": [
        "TLtt5WKx2q8F",
        "Hng11neG39Am",
        "iI2BdHUdyIlU",
        "pRWuJkfOhs9h",
        "o6gkoeydim4x",
        "H0-cxGyXjmC7"
      ]
    },
    "kernelspec": {
      "name": "python3",
      "display_name": "Python 3"
    }
  },
  "cells": [
    {
      "cell_type": "markdown",
      "metadata": {
        "id": "HhsCXXkqYKrC"
      },
      "source": [
        "# Cervical Cancer Risk Classification\n",
        "\n",
        "\n"
      ]
    },
    {
      "cell_type": "code",
      "metadata": {
        "id": "-710URnrazYP",
        "colab": {
          "base_uri": "https://localhost:8080/"
        },
        "outputId": "2af0219d-bad7-4e76-ff4c-027bf8b9e192"
      },
      "source": [
        "from sklearn import preprocessing\n",
        "import numpy as np\n",
        "import pandas as pd\n",
        "from sklearn import preprocessing, neighbors, svm\n",
        "import matplotlib.pyplot as plt\n",
        "import seaborn as sns\n",
        "\n",
        "from sklearn.model_selection import train_test_split, GridSearchCV, RandomizedSearchCV, cross_val_score\n",
        "from sklearn.tree import DecisionTreeClassifier, DecisionTreeRegressor\n",
        "from sklearn.ensemble import RandomForestClassifier, RandomForestRegressor, BaggingClassifier,AdaBoostClassifier,GradientBoostingClassifier\n",
        "from sklearn.linear_model import LinearRegression,LogisticRegression\n",
        "from sklearn.neighbors import KNeighborsClassifier\n",
        "from sklearn.naive_bayes import GaussianNB\n",
        "from sklearn import metrics\n",
        "from sklearn.preprocessing import StandardScaler\n",
        "\n",
        "import warnings\n",
        "warnings.filterwarnings(\"ignore\")\n",
        "\n",
        "!pip install scikit-plot\n",
        "import scikitplot as skplt\n",
        "from sklearn.decomposition import PCA"
      ],
      "execution_count": null,
      "outputs": [
        {
          "output_type": "stream",
          "text": [
            "Collecting scikit-plot\n",
            "  Downloading https://files.pythonhosted.org/packages/7c/47/32520e259340c140a4ad27c1b97050dd3254fdc517b1d59974d47037510e/scikit_plot-0.3.7-py3-none-any.whl\n",
            "Requirement already satisfied: joblib>=0.10 in /usr/local/lib/python3.7/dist-packages (from scikit-plot) (1.0.1)\n",
            "Requirement already satisfied: matplotlib>=1.4.0 in /usr/local/lib/python3.7/dist-packages (from scikit-plot) (3.2.2)\n",
            "Requirement already satisfied: scipy>=0.9 in /usr/local/lib/python3.7/dist-packages (from scikit-plot) (1.4.1)\n",
            "Requirement already satisfied: scikit-learn>=0.18 in /usr/local/lib/python3.7/dist-packages (from scikit-plot) (0.22.2.post1)\n",
            "Requirement already satisfied: cycler>=0.10 in /usr/local/lib/python3.7/dist-packages (from matplotlib>=1.4.0->scikit-plot) (0.10.0)\n",
            "Requirement already satisfied: kiwisolver>=1.0.1 in /usr/local/lib/python3.7/dist-packages (from matplotlib>=1.4.0->scikit-plot) (1.3.1)\n",
            "Requirement already satisfied: numpy>=1.11 in /usr/local/lib/python3.7/dist-packages (from matplotlib>=1.4.0->scikit-plot) (1.19.5)\n",
            "Requirement already satisfied: python-dateutil>=2.1 in /usr/local/lib/python3.7/dist-packages (from matplotlib>=1.4.0->scikit-plot) (2.8.1)\n",
            "Requirement already satisfied: pyparsing!=2.0.4,!=2.1.2,!=2.1.6,>=2.0.1 in /usr/local/lib/python3.7/dist-packages (from matplotlib>=1.4.0->scikit-plot) (2.4.7)\n",
            "Requirement already satisfied: six in /usr/local/lib/python3.7/dist-packages (from cycler>=0.10->matplotlib>=1.4.0->scikit-plot) (1.15.0)\n",
            "Installing collected packages: scikit-plot\n",
            "Successfully installed scikit-plot-0.3.7\n"
          ],
          "name": "stdout"
        }
      ]
    },
    {
      "cell_type": "code",
      "metadata": {
        "id": "-S18SBISZOCW"
      },
      "source": [
        "df = pd.read_csv('/content/drive/MyDrive/Colab Notebooks/cervical_cancer_project/df_imputation.csv', index_col=0)\n",
        "#df_imputation is the new CSV file that doesn't have any null values."
      ],
      "execution_count": null,
      "outputs": []
    },
    {
      "cell_type": "markdown",
      "metadata": {
        "id": "s4c5CtXj7XaG"
      },
      "source": [
        "# Basic classification with Decision Tree"
      ]
    },
    {
      "cell_type": "markdown",
      "metadata": {
        "id": "N4PRFWqoBiaG"
      },
      "source": [
        "## Import Data"
      ]
    },
    {
      "cell_type": "code",
      "metadata": {
        "id": "C4DzSdWRXmED"
      },
      "source": [
        "df = df.astype('float64')\n",
        "\n",
        "# Input : features\n",
        "x = df.drop('Biopsy', axis=1)\n",
        "\n",
        "# Output : prediction\n",
        "y = df['Biopsy']\n",
        "\n",
        "SS = StandardScaler()\n",
        "df_scaled = pd.DataFrame(SS.fit_transform(x), columns = x.columns) # as scaling mandotory for KNN model\n",
        "\n",
        "x_train,x_test,y_train,y_test = train_test_split(x,y, test_size = 0.25, random_state = 1)\n",
        "x_train1,x_test1,y_train,y_test = train_test_split(df_scaled,y, test_size = 0.25, random_state = 1) # for knn\n",
        "\n",
        "l= []  #List to store the various model metrics"
      ],
      "execution_count": null,
      "outputs": []
    },
    {
      "cell_type": "code",
      "metadata": {
        "colab": {
          "base_uri": "https://localhost:8080/",
          "height": 217
        },
        "id": "ac0NUvoXMp8P",
        "outputId": "774ad51b-c2d8-4e60-967e-b23bbdb5ec4b"
      },
      "source": [
        "x.head(5)"
      ],
      "execution_count": null,
      "outputs": [
        {
          "output_type": "execute_result",
          "data": {
            "text/html": [
              "<div>\n",
              "<style scoped>\n",
              "    .dataframe tbody tr th:only-of-type {\n",
              "        vertical-align: middle;\n",
              "    }\n",
              "\n",
              "    .dataframe tbody tr th {\n",
              "        vertical-align: top;\n",
              "    }\n",
              "\n",
              "    .dataframe thead th {\n",
              "        text-align: right;\n",
              "    }\n",
              "</style>\n",
              "<table border=\"1\" class=\"dataframe\">\n",
              "  <thead>\n",
              "    <tr style=\"text-align: right;\">\n",
              "      <th></th>\n",
              "      <th>Age</th>\n",
              "      <th>No_of_sex_partner</th>\n",
              "      <th>First_sexual_intercourse</th>\n",
              "      <th>No_pregnancies</th>\n",
              "      <th>Smokes</th>\n",
              "      <th>Smokes_yrs</th>\n",
              "      <th>Smokes_packs_yr</th>\n",
              "      <th>Hormonal_Contraceptives</th>\n",
              "      <th>Hormonal_Contraceptives_years</th>\n",
              "      <th>IUD</th>\n",
              "      <th>IUD_years</th>\n",
              "      <th>STDs</th>\n",
              "      <th>STDs_number</th>\n",
              "      <th>STDs_condylomatosis</th>\n",
              "      <th>STDs_cervical_condylomatosis</th>\n",
              "      <th>STDs_vaginal_condylomatosis</th>\n",
              "      <th>STDs_vulvo_perineal_condylomatosis</th>\n",
              "      <th>STDs_syphilis</th>\n",
              "      <th>STDs_pelvic_inflammatory_disease</th>\n",
              "      <th>STDs_genital_herpes</th>\n",
              "      <th>STDs_molluscum_contagiosum</th>\n",
              "      <th>STDs_AIDS</th>\n",
              "      <th>STDs_HIV</th>\n",
              "      <th>STDs_Hepatitis_B</th>\n",
              "      <th>STDs_HPV</th>\n",
              "      <th>STDs_No_of_diagnosis</th>\n",
              "      <th>Dx_Cancer</th>\n",
              "      <th>Dx_CIN</th>\n",
              "      <th>Dx_HPV</th>\n",
              "      <th>Dx</th>\n",
              "      <th>Hinselmann</th>\n",
              "      <th>Schiller</th>\n",
              "      <th>Citology</th>\n",
              "    </tr>\n",
              "  </thead>\n",
              "  <tbody>\n",
              "    <tr>\n",
              "      <th>0</th>\n",
              "      <td>18.0</td>\n",
              "      <td>4.0</td>\n",
              "      <td>15.0</td>\n",
              "      <td>1.0</td>\n",
              "      <td>0.0</td>\n",
              "      <td>0.0</td>\n",
              "      <td>0.0</td>\n",
              "      <td>0.0</td>\n",
              "      <td>0.0</td>\n",
              "      <td>0.0</td>\n",
              "      <td>0.0</td>\n",
              "      <td>0.0</td>\n",
              "      <td>0.0</td>\n",
              "      <td>0.0</td>\n",
              "      <td>0.0</td>\n",
              "      <td>0.0</td>\n",
              "      <td>0.0</td>\n",
              "      <td>0.0</td>\n",
              "      <td>0.0</td>\n",
              "      <td>0.0</td>\n",
              "      <td>0.0</td>\n",
              "      <td>0.0</td>\n",
              "      <td>0.0</td>\n",
              "      <td>0.0</td>\n",
              "      <td>0.0</td>\n",
              "      <td>0.0</td>\n",
              "      <td>0.0</td>\n",
              "      <td>0.0</td>\n",
              "      <td>0.0</td>\n",
              "      <td>0.0</td>\n",
              "      <td>0.0</td>\n",
              "      <td>0.0</td>\n",
              "      <td>0.0</td>\n",
              "    </tr>\n",
              "    <tr>\n",
              "      <th>1</th>\n",
              "      <td>15.0</td>\n",
              "      <td>1.0</td>\n",
              "      <td>14.0</td>\n",
              "      <td>1.0</td>\n",
              "      <td>0.0</td>\n",
              "      <td>0.0</td>\n",
              "      <td>0.0</td>\n",
              "      <td>0.0</td>\n",
              "      <td>0.0</td>\n",
              "      <td>0.0</td>\n",
              "      <td>0.0</td>\n",
              "      <td>0.0</td>\n",
              "      <td>0.0</td>\n",
              "      <td>0.0</td>\n",
              "      <td>0.0</td>\n",
              "      <td>0.0</td>\n",
              "      <td>0.0</td>\n",
              "      <td>0.0</td>\n",
              "      <td>0.0</td>\n",
              "      <td>0.0</td>\n",
              "      <td>0.0</td>\n",
              "      <td>0.0</td>\n",
              "      <td>0.0</td>\n",
              "      <td>0.0</td>\n",
              "      <td>0.0</td>\n",
              "      <td>0.0</td>\n",
              "      <td>0.0</td>\n",
              "      <td>0.0</td>\n",
              "      <td>0.0</td>\n",
              "      <td>0.0</td>\n",
              "      <td>0.0</td>\n",
              "      <td>0.0</td>\n",
              "      <td>0.0</td>\n",
              "    </tr>\n",
              "    <tr>\n",
              "      <th>3</th>\n",
              "      <td>52.0</td>\n",
              "      <td>5.0</td>\n",
              "      <td>16.0</td>\n",
              "      <td>4.0</td>\n",
              "      <td>1.0</td>\n",
              "      <td>37.0</td>\n",
              "      <td>37.0</td>\n",
              "      <td>1.0</td>\n",
              "      <td>3.0</td>\n",
              "      <td>0.0</td>\n",
              "      <td>0.0</td>\n",
              "      <td>0.0</td>\n",
              "      <td>0.0</td>\n",
              "      <td>0.0</td>\n",
              "      <td>0.0</td>\n",
              "      <td>0.0</td>\n",
              "      <td>0.0</td>\n",
              "      <td>0.0</td>\n",
              "      <td>0.0</td>\n",
              "      <td>0.0</td>\n",
              "      <td>0.0</td>\n",
              "      <td>0.0</td>\n",
              "      <td>0.0</td>\n",
              "      <td>0.0</td>\n",
              "      <td>0.0</td>\n",
              "      <td>0.0</td>\n",
              "      <td>1.0</td>\n",
              "      <td>0.0</td>\n",
              "      <td>1.0</td>\n",
              "      <td>0.0</td>\n",
              "      <td>0.0</td>\n",
              "      <td>0.0</td>\n",
              "      <td>0.0</td>\n",
              "    </tr>\n",
              "    <tr>\n",
              "      <th>4</th>\n",
              "      <td>46.0</td>\n",
              "      <td>3.0</td>\n",
              "      <td>21.0</td>\n",
              "      <td>4.0</td>\n",
              "      <td>0.0</td>\n",
              "      <td>0.0</td>\n",
              "      <td>0.0</td>\n",
              "      <td>1.0</td>\n",
              "      <td>15.0</td>\n",
              "      <td>0.0</td>\n",
              "      <td>0.0</td>\n",
              "      <td>0.0</td>\n",
              "      <td>0.0</td>\n",
              "      <td>0.0</td>\n",
              "      <td>0.0</td>\n",
              "      <td>0.0</td>\n",
              "      <td>0.0</td>\n",
              "      <td>0.0</td>\n",
              "      <td>0.0</td>\n",
              "      <td>0.0</td>\n",
              "      <td>0.0</td>\n",
              "      <td>0.0</td>\n",
              "      <td>0.0</td>\n",
              "      <td>0.0</td>\n",
              "      <td>0.0</td>\n",
              "      <td>0.0</td>\n",
              "      <td>0.0</td>\n",
              "      <td>0.0</td>\n",
              "      <td>0.0</td>\n",
              "      <td>0.0</td>\n",
              "      <td>0.0</td>\n",
              "      <td>0.0</td>\n",
              "      <td>0.0</td>\n",
              "    </tr>\n",
              "    <tr>\n",
              "      <th>5</th>\n",
              "      <td>42.0</td>\n",
              "      <td>3.0</td>\n",
              "      <td>23.0</td>\n",
              "      <td>2.0</td>\n",
              "      <td>0.0</td>\n",
              "      <td>0.0</td>\n",
              "      <td>0.0</td>\n",
              "      <td>0.0</td>\n",
              "      <td>0.0</td>\n",
              "      <td>0.0</td>\n",
              "      <td>0.0</td>\n",
              "      <td>0.0</td>\n",
              "      <td>0.0</td>\n",
              "      <td>0.0</td>\n",
              "      <td>0.0</td>\n",
              "      <td>0.0</td>\n",
              "      <td>0.0</td>\n",
              "      <td>0.0</td>\n",
              "      <td>0.0</td>\n",
              "      <td>0.0</td>\n",
              "      <td>0.0</td>\n",
              "      <td>0.0</td>\n",
              "      <td>0.0</td>\n",
              "      <td>0.0</td>\n",
              "      <td>0.0</td>\n",
              "      <td>0.0</td>\n",
              "      <td>0.0</td>\n",
              "      <td>0.0</td>\n",
              "      <td>0.0</td>\n",
              "      <td>0.0</td>\n",
              "      <td>0.0</td>\n",
              "      <td>0.0</td>\n",
              "      <td>0.0</td>\n",
              "    </tr>\n",
              "  </tbody>\n",
              "</table>\n",
              "</div>"
            ],
            "text/plain": [
              "    Age  No_of_sex_partner  ...  Schiller  Citology\n",
              "0  18.0                4.0  ...       0.0       0.0\n",
              "1  15.0                1.0  ...       0.0       0.0\n",
              "3  52.0                5.0  ...       0.0       0.0\n",
              "4  46.0                3.0  ...       0.0       0.0\n",
              "5  42.0                3.0  ...       0.0       0.0\n",
              "\n",
              "[5 rows x 33 columns]"
            ]
          },
          "metadata": {
            "tags": []
          },
          "execution_count": 4
        }
      ]
    },
    {
      "cell_type": "markdown",
      "metadata": {
        "id": "dt1usGxpBneP"
      },
      "source": [
        "## Decision tree model\n",
        "\n",
        "\n",
        "1.   Default parameters\n",
        "2.   Using Grid Search\n",
        "\n"
      ]
    },
    {
      "cell_type": "code",
      "metadata": {
        "colab": {
          "base_uri": "https://localhost:8080/",
          "height": 76
        },
        "id": "zEsbm3YlBwnk",
        "outputId": "da7dbae1-e2e8-4285-cd6c-5b1c01eccb4e"
      },
      "source": [
        "results=[]\n",
        "res = {}\n",
        "basic_dt = DecisionTreeClassifier().fit(x_train,y_train)\n",
        "\n",
        "res['model'] = 'Basic DT'\n",
        "ypred = basic_dt.predict(x_test)\n",
        "res['Train_Score'] = basic_dt.score(x_train,y_train)\n",
        "res['Test_accuracy'] = metrics.accuracy_score(y_test,ypred)\n",
        "res['f1score'] = metrics.f1_score(y_test,ypred)\n",
        "res['recall'] = metrics.recall_score(y_test, ypred)\n",
        "res['precision'] = metrics.precision_score(y_test, ypred)\n",
        "res['roc_auc'] = metrics.roc_auc_score(y_test,ypred)\n",
        "\n",
        "results.append(res)\n",
        "pd.DataFrame(results)"
      ],
      "execution_count": null,
      "outputs": [
        {
          "output_type": "execute_result",
          "data": {
            "text/html": [
              "<div>\n",
              "<style scoped>\n",
              "    .dataframe tbody tr th:only-of-type {\n",
              "        vertical-align: middle;\n",
              "    }\n",
              "\n",
              "    .dataframe tbody tr th {\n",
              "        vertical-align: top;\n",
              "    }\n",
              "\n",
              "    .dataframe thead th {\n",
              "        text-align: right;\n",
              "    }\n",
              "</style>\n",
              "<table border=\"1\" class=\"dataframe\">\n",
              "  <thead>\n",
              "    <tr style=\"text-align: right;\">\n",
              "      <th></th>\n",
              "      <th>model</th>\n",
              "      <th>Train_Score</th>\n",
              "      <th>Test_accuracy</th>\n",
              "      <th>f1score</th>\n",
              "      <th>recall</th>\n",
              "      <th>precision</th>\n",
              "      <th>roc_auc</th>\n",
              "    </tr>\n",
              "  </thead>\n",
              "  <tbody>\n",
              "    <tr>\n",
              "      <th>0</th>\n",
              "      <td>Basic DT</td>\n",
              "      <td>1.0</td>\n",
              "      <td>0.942857</td>\n",
              "      <td>0.625</td>\n",
              "      <td>0.833333</td>\n",
              "      <td>0.5</td>\n",
              "      <td>0.891414</td>\n",
              "    </tr>\n",
              "  </tbody>\n",
              "</table>\n",
              "</div>"
            ],
            "text/plain": [
              "      model  Train_Score  Test_accuracy  f1score    recall  precision   roc_auc\n",
              "0  Basic DT          1.0       0.942857    0.625  0.833333        0.5  0.891414"
            ]
          },
          "metadata": {
            "tags": []
          },
          "execution_count": 4
        }
      ]
    },
    {
      "cell_type": "code",
      "metadata": {
        "colab": {
          "base_uri": "https://localhost:8080/"
        },
        "id": "GAtdFaSE-vOA",
        "outputId": "fbed6ec7-2cdf-40c5-9aa1-a90c587a2c58"
      },
      "source": [
        "tree = DecisionTreeClassifier()\n",
        "tree_param = {\n",
        "    'criterion':['gini','entropy'],\n",
        "    'splitter':['best','random'],\n",
        "    'max_depth':[3,4,5,6],\n",
        "    'max_features':['auto','log2'],\n",
        "    'random_state':[123]\n",
        "}\n",
        "\n",
        "grid = GridSearchCV(tree, tree_param, cv=10)\n",
        "best_parameter_search = grid.fit(x_train,y_train)\n",
        "best_parameter_search.best_params_"
      ],
      "execution_count": null,
      "outputs": [
        {
          "output_type": "execute_result",
          "data": {
            "text/plain": [
              "{'criterion': 'entropy',\n",
              " 'max_depth': 3,\n",
              " 'max_features': 'auto',\n",
              " 'random_state': 123,\n",
              " 'splitter': 'best'}"
            ]
          },
          "metadata": {
            "tags": []
          },
          "execution_count": 5
        }
      ]
    },
    {
      "cell_type": "code",
      "metadata": {
        "id": "E5-OJGEt_KYW"
      },
      "source": [
        "dt_grid_search = DecisionTreeClassifier(criterion= 'entropy', max_depth = 3, max_features = 'auto', random_state = 123, splitter = 'best').fit(x_train,y_train)"
      ],
      "execution_count": null,
      "outputs": []
    },
    {
      "cell_type": "code",
      "metadata": {
        "colab": {
          "base_uri": "https://localhost:8080/",
          "height": 133
        },
        "id": "JePeHnMX_n53",
        "outputId": "a487a39b-17f4-452f-9899-eda9dd73eed5"
      },
      "source": [
        "res = {}\n",
        "res['model'] = 'Basic DT - Grid search'\n",
        "ypred = dt_grid_search.predict(x_test)\n",
        "res['Train_Score'] = dt_grid_search.score(x_train,y_train)\n",
        "res['Test_accuracy'] = metrics.accuracy_score(y_test,ypred)\n",
        "res['f1score'] = metrics.f1_score(y_test,ypred)\n",
        "res['recall'] = metrics.recall_score(y_test, ypred)\n",
        "res['precision'] = metrics.precision_score(y_test, ypred)\n",
        "res['roc_auc'] = metrics.roc_auc_score(y_test,ypred)\n",
        "results.append(res)\n",
        "pd.DataFrame(results)"
      ],
      "execution_count": null,
      "outputs": [
        {
          "output_type": "execute_result",
          "data": {
            "text/html": [
              "<div>\n",
              "<style scoped>\n",
              "    .dataframe tbody tr th:only-of-type {\n",
              "        vertical-align: middle;\n",
              "    }\n",
              "\n",
              "    .dataframe tbody tr th {\n",
              "        vertical-align: top;\n",
              "    }\n",
              "\n",
              "    .dataframe thead th {\n",
              "        text-align: right;\n",
              "    }\n",
              "</style>\n",
              "<table border=\"1\" class=\"dataframe\">\n",
              "  <thead>\n",
              "    <tr style=\"text-align: right;\">\n",
              "      <th></th>\n",
              "      <th>model</th>\n",
              "      <th>Train_Score</th>\n",
              "      <th>Test_accuracy</th>\n",
              "      <th>f1score</th>\n",
              "      <th>recall</th>\n",
              "      <th>precision</th>\n",
              "      <th>roc_auc</th>\n",
              "    </tr>\n",
              "  </thead>\n",
              "  <tbody>\n",
              "    <tr>\n",
              "      <th>0</th>\n",
              "      <td>Basic DT</td>\n",
              "      <td>1.000000</td>\n",
              "      <td>0.942857</td>\n",
              "      <td>0.625000</td>\n",
              "      <td>0.833333</td>\n",
              "      <td>0.500000</td>\n",
              "      <td>0.891414</td>\n",
              "    </tr>\n",
              "    <tr>\n",
              "      <th>1</th>\n",
              "      <td>Basic DT - Grid search</td>\n",
              "      <td>0.966561</td>\n",
              "      <td>0.961905</td>\n",
              "      <td>0.750000</td>\n",
              "      <td>1.000000</td>\n",
              "      <td>0.600000</td>\n",
              "      <td>0.979798</td>\n",
              "    </tr>\n",
              "    <tr>\n",
              "      <th>2</th>\n",
              "      <td>Basic DT - Grid search</td>\n",
              "      <td>0.968153</td>\n",
              "      <td>0.961905</td>\n",
              "      <td>0.733333</td>\n",
              "      <td>0.916667</td>\n",
              "      <td>0.611111</td>\n",
              "      <td>0.940657</td>\n",
              "    </tr>\n",
              "  </tbody>\n",
              "</table>\n",
              "</div>"
            ],
            "text/plain": [
              "                    model  Train_Score  ...  precision   roc_auc\n",
              "0                Basic DT     1.000000  ...   0.500000  0.891414\n",
              "1  Basic DT - Grid search     0.966561  ...   0.600000  0.979798\n",
              "2  Basic DT - Grid search     0.968153  ...   0.611111  0.940657\n",
              "\n",
              "[3 rows x 7 columns]"
            ]
          },
          "metadata": {
            "tags": []
          },
          "execution_count": 9
        }
      ]
    },
    {
      "cell_type": "code",
      "metadata": {
        "colab": {
          "base_uri": "https://localhost:8080/",
          "height": 1000
        },
        "id": "iE6qMKTlDURu",
        "outputId": "58322cd3-2216-4fcc-d55e-f6849d5546d2"
      },
      "source": [
        "from sklearn import tree\n",
        "tree.plot_tree(basic_dt)\n"
      ],
      "execution_count": null,
      "outputs": [
        {
          "output_type": "execute_result",
          "data": {
            "text/plain": [
              "[Text(164.18076923076924, 207.55636363636364, 'X[31] <= 0.5\\ngini = 0.125\\nsamples = 628\\nvalue = [586, 42]'),\n",
              " Text(106.23461538461538, 187.7890909090909, 'X[19] <= 0.5\\ngini = 0.024\\nsamples = 576\\nvalue = [569, 7]'),\n",
              " Text(93.3576923076923, 168.0218181818182, 'X[27] <= 0.5\\ngini = 0.021\\nsamples = 575\\nvalue = [569, 6]'),\n",
              " Text(57.94615384615385, 148.25454545454545, 'X[2] <= 12.5\\ngini = 0.014\\nsamples = 568\\nvalue = [564, 4]'),\n",
              " Text(25.753846153846155, 128.48727272727274, 'X[1] <= 1.5\\ngini = 0.278\\nsamples = 6\\nvalue = [5, 1]'),\n",
              " Text(12.876923076923077, 108.72, 'gini = 0.0\\nsamples = 1\\nvalue = [0, 1]'),\n",
              " Text(38.63076923076923, 108.72, 'gini = 0.0\\nsamples = 5\\nvalue = [5, 0]'),\n",
              " Text(90.13846153846154, 128.48727272727274, 'X[32] <= 0.5\\ngini = 0.011\\nsamples = 562\\nvalue = [559, 3]'),\n",
              " Text(64.38461538461539, 108.72, 'X[2] <= 14.5\\ngini = 0.007\\nsamples = 549\\nvalue = [547, 2]'),\n",
              " Text(51.50769230769231, 88.95272727272729, 'X[6] <= 2.2\\ngini = 0.055\\nsamples = 71\\nvalue = [69, 2]'),\n",
              " Text(25.753846153846155, 69.18545454545455, 'X[1] <= 4.5\\ngini = 0.029\\nsamples = 69\\nvalue = [68, 1]'),\n",
              " Text(12.876923076923077, 49.418181818181836, 'gini = 0.0\\nsamples = 62\\nvalue = [62, 0]'),\n",
              " Text(38.63076923076923, 49.418181818181836, 'X[0] <= 26.5\\ngini = 0.245\\nsamples = 7\\nvalue = [6, 1]'),\n",
              " Text(25.753846153846155, 29.650909090909096, 'gini = 0.0\\nsamples = 6\\nvalue = [6, 0]'),\n",
              " Text(51.50769230769231, 29.650909090909096, 'gini = 0.0\\nsamples = 1\\nvalue = [0, 1]'),\n",
              " Text(77.26153846153846, 69.18545454545455, 'X[8] <= 4.25\\ngini = 0.5\\nsamples = 2\\nvalue = [1, 1]'),\n",
              " Text(64.38461538461539, 49.418181818181836, 'gini = 0.0\\nsamples = 1\\nvalue = [0, 1]'),\n",
              " Text(90.13846153846154, 49.418181818181836, 'gini = 0.0\\nsamples = 1\\nvalue = [1, 0]'),\n",
              " Text(77.26153846153846, 88.95272727272729, 'gini = 0.0\\nsamples = 478\\nvalue = [478, 0]'),\n",
              " Text(115.8923076923077, 108.72, 'X[2] <= 16.5\\ngini = 0.142\\nsamples = 13\\nvalue = [12, 1]'),\n",
              " Text(103.01538461538462, 88.95272727272729, 'gini = 0.0\\nsamples = 8\\nvalue = [8, 0]'),\n",
              " Text(128.76923076923077, 88.95272727272729, 'X[0] <= 22.0\\ngini = 0.32\\nsamples = 5\\nvalue = [4, 1]'),\n",
              " Text(115.8923076923077, 69.18545454545455, 'gini = 0.0\\nsamples = 1\\nvalue = [0, 1]'),\n",
              " Text(141.64615384615385, 69.18545454545455, 'gini = 0.0\\nsamples = 4\\nvalue = [4, 0]'),\n",
              " Text(128.76923076923077, 148.25454545454545, 'X[3] <= 1.5\\ngini = 0.408\\nsamples = 7\\nvalue = [5, 2]'),\n",
              " Text(115.8923076923077, 128.48727272727274, 'gini = 0.0\\nsamples = 2\\nvalue = [0, 2]'),\n",
              " Text(141.64615384615385, 128.48727272727274, 'gini = 0.0\\nsamples = 5\\nvalue = [5, 0]'),\n",
              " Text(119.11153846153846, 168.0218181818182, 'gini = 0.0\\nsamples = 1\\nvalue = [0, 1]'),\n",
              " Text(222.12692307692308, 187.7890909090909, 'X[0] <= 17.5\\ngini = 0.44\\nsamples = 52\\nvalue = [17, 35]'),\n",
              " Text(167.4, 168.0218181818182, 'X[1] <= 1.5\\ngini = 0.278\\nsamples = 6\\nvalue = [5, 1]'),\n",
              " Text(154.52307692307693, 148.25454545454545, 'gini = 0.0\\nsamples = 4\\nvalue = [4, 0]'),\n",
              " Text(180.27692307692308, 148.25454545454545, 'X[16] <= 0.5\\ngini = 0.5\\nsamples = 2\\nvalue = [1, 1]'),\n",
              " Text(167.4, 128.48727272727274, 'gini = 0.0\\nsamples = 1\\nvalue = [0, 1]'),\n",
              " Text(193.15384615384616, 128.48727272727274, 'gini = 0.0\\nsamples = 1\\nvalue = [1, 0]'),\n",
              " Text(276.8538461538462, 168.0218181818182, 'X[3] <= 4.5\\ngini = 0.386\\nsamples = 46\\nvalue = [12, 34]'),\n",
              " Text(244.66153846153847, 148.25454545454545, 'X[2] <= 14.5\\ngini = 0.32\\nsamples = 40\\nvalue = [8, 32]'),\n",
              " Text(218.90769230769232, 128.48727272727274, 'X[11] <= 0.5\\ngini = 0.375\\nsamples = 4\\nvalue = [3, 1]'),\n",
              " Text(206.03076923076924, 108.72, 'gini = 0.0\\nsamples = 3\\nvalue = [3, 0]'),\n",
              " Text(231.7846153846154, 108.72, 'gini = 0.0\\nsamples = 1\\nvalue = [0, 1]'),\n",
              " Text(270.4153846153846, 128.48727272727274, 'X[10] <= 12.5\\ngini = 0.239\\nsamples = 36\\nvalue = [5, 31]'),\n",
              " Text(257.53846153846155, 108.72, 'X[5] <= 6.0\\ngini = 0.202\\nsamples = 35\\nvalue = [4, 31]'),\n",
              " Text(225.34615384615387, 88.95272727272729, 'X[0] <= 42.5\\ngini = 0.124\\nsamples = 30\\nvalue = [2, 28]'),\n",
              " Text(199.5923076923077, 69.18545454545455, 'X[8] <= 5.0\\ngini = 0.069\\nsamples = 28\\nvalue = [1, 27]'),\n",
              " Text(186.7153846153846, 49.418181818181836, 'gini = 0.0\\nsamples = 20\\nvalue = [0, 20]'),\n",
              " Text(212.46923076923076, 49.418181818181836, 'X[8] <= 7.5\\ngini = 0.219\\nsamples = 8\\nvalue = [1, 7]'),\n",
              " Text(199.5923076923077, 29.650909090909096, 'X[5] <= 2.5\\ngini = 0.5\\nsamples = 2\\nvalue = [1, 1]'),\n",
              " Text(186.7153846153846, 9.883636363636384, 'gini = 0.0\\nsamples = 1\\nvalue = [1, 0]'),\n",
              " Text(212.46923076923076, 9.883636363636384, 'gini = 0.0\\nsamples = 1\\nvalue = [0, 1]'),\n",
              " Text(225.34615384615387, 29.650909090909096, 'gini = 0.0\\nsamples = 6\\nvalue = [0, 6]'),\n",
              " Text(251.10000000000002, 69.18545454545455, 'X[32] <= 0.5\\ngini = 0.5\\nsamples = 2\\nvalue = [1, 1]'),\n",
              " Text(238.22307692307692, 49.418181818181836, 'gini = 0.0\\nsamples = 1\\nvalue = [0, 1]'),\n",
              " Text(263.9769230769231, 49.418181818181836, 'gini = 0.0\\nsamples = 1\\nvalue = [1, 0]'),\n",
              " Text(289.7307692307692, 88.95272727272729, 'X[0] <= 27.5\\ngini = 0.48\\nsamples = 5\\nvalue = [2, 3]'),\n",
              " Text(276.8538461538462, 69.18545454545455, 'gini = 0.0\\nsamples = 2\\nvalue = [2, 0]'),\n",
              " Text(302.60769230769233, 69.18545454545455, 'gini = 0.0\\nsamples = 3\\nvalue = [0, 3]'),\n",
              " Text(283.2923076923077, 108.72, 'gini = 0.0\\nsamples = 1\\nvalue = [1, 0]'),\n",
              " Text(309.04615384615386, 148.25454545454545, 'X[6] <= 3.0\\ngini = 0.444\\nsamples = 6\\nvalue = [4, 2]'),\n",
              " Text(296.1692307692308, 128.48727272727274, 'gini = 0.0\\nsamples = 4\\nvalue = [4, 0]'),\n",
              " Text(321.9230769230769, 128.48727272727274, 'gini = 0.0\\nsamples = 2\\nvalue = [0, 2]')]"
            ]
          },
          "metadata": {
            "tags": []
          },
          "execution_count": 8
        },
        {
          "output_type": "display_data",
          "data": {
            "image/png": "[encoded data removed]",
            "text/plain": [
              "<Figure size 432x288 with 1 Axes>"
            ]
          },
          "metadata": {
            "tags": [],
            "needs_background": "light"
          }
        }
      ]
    },
    {
      "cell_type": "code",
      "metadata": {
        "colab": {
          "base_uri": "https://localhost:8080/",
          "height": 443
        },
        "id": "wILvOMcg-4Zq",
        "outputId": "08b6024a-28f4-4c6a-bd00-459b8c1dbc56"
      },
      "source": [
        "tree.plot_tree(dt_grid_search)"
      ],
      "execution_count": null,
      "outputs": [
        {
          "output_type": "execute_result",
          "data": {
            "text/plain": [
              "[Text(186.0, 190.26, 'X[31] <= 0.5\\nentropy = 0.354\\nsamples = 628\\nvalue = [586, 42]'),\n",
              " Text(111.60000000000001, 135.9, 'X[8] <= 3.062\\nentropy = 0.095\\nsamples = 576\\nvalue = [569, 7]'),\n",
              " Text(74.4, 81.53999999999999, 'X[2] <= 12.5\\nentropy = 0.117\\nsamples = 442\\nvalue = [435, 7]'),\n",
              " Text(37.2, 27.180000000000007, 'entropy = 0.811\\nsamples = 4\\nvalue = [3, 1]'),\n",
              " Text(111.60000000000001, 27.180000000000007, 'entropy = 0.104\\nsamples = 438\\nvalue = [432, 6]'),\n",
              " Text(148.8, 81.53999999999999, 'entropy = 0.0\\nsamples = 134\\nvalue = [134, 0]'),\n",
              " Text(260.40000000000003, 135.9, 'X[6] <= 2.95\\nentropy = 0.912\\nsamples = 52\\nvalue = [17, 35]'),\n",
              " Text(223.20000000000002, 81.53999999999999, 'X[3] <= 4.5\\nentropy = 0.938\\nsamples = 48\\nvalue = [17, 31]'),\n",
              " Text(186.0, 27.180000000000007, 'entropy = 0.876\\nsamples = 44\\nvalue = [13, 31]'),\n",
              " Text(260.40000000000003, 27.180000000000007, 'entropy = 0.0\\nsamples = 4\\nvalue = [4, 0]'),\n",
              " Text(297.6, 81.53999999999999, 'entropy = 0.0\\nsamples = 4\\nvalue = [0, 4]')]"
            ]
          },
          "metadata": {
            "tags": []
          },
          "execution_count": 9
        },
        {
          "output_type": "display_data",
          "data": {
            "image/png": "[encoded data removed]",
            "text/plain": [
              "<Figure size 432x288 with 1 Axes>"
            ]
          },
          "metadata": {
            "tags": [],
            "needs_background": "light"
          }
        }
      ]
    },
    {
      "cell_type": "markdown",
      "metadata": {
        "id": "HLxyNok9oGjJ"
      },
      "source": [
        "# Sampling data"
      ]
    },
    {
      "cell_type": "code",
      "metadata": {
        "id": "IkY7u3O7RyDJ",
        "colab": {
          "base_uri": "https://localhost:8080/"
        },
        "outputId": "4c630a51-edb1-4c08-ec7a-31f6499f4e12"
      },
      "source": [
        "from imblearn.over_sampling import SMOTE\n",
        "from collections import Counter\n",
        "x_train_s, y_train_s = SMOTE(random_state=33).fit_resample(x_train, y_train.ravel())\n",
        "print(sorted(Counter(y_train_s).items()))"
      ],
      "execution_count": null,
      "outputs": [
        {
          "output_type": "stream",
          "text": [
            "[(0.0, 586), (1.0, 586)]\n"
          ],
          "name": "stdout"
        }
      ]
    },
    {
      "cell_type": "code",
      "metadata": {
        "id": "oVfoQjTJpSFb",
        "colab": {
          "base_uri": "https://localhost:8080/",
          "height": 162
        },
        "outputId": "113e1cb3-1164-4fb2-f846-329ee9dae81d"
      },
      "source": [
        "res = {}\n",
        "dt_def_smote = DecisionTreeClassifier().fit(x_train_s,y_train_s)\n",
        "ypred = dt_def_smote.predict(x_test)\n",
        "res['model'] = 'DT - SMOTE - Default'\n",
        "res['Train_Score'] = dt_def_smote.score(x_train_s,y_train_s)\n",
        "res['Test_accuracy'] = metrics.accuracy_score(y_test,ypred)\n",
        "res['f1score'] = metrics.f1_score(y_test,ypred)\n",
        "res['recall'] = metrics.recall_score(y_test, ypred)\n",
        "res['precision'] = metrics.precision_score(y_test, ypred)\n",
        "dt_def_smote.predict_proba(x_test)\n",
        "res['roc_auc'] = metrics.roc_auc_score(y_test,ypred)\n",
        "\n",
        "results.append(res)\n",
        "pd.DataFrame(results)"
      ],
      "execution_count": null,
      "outputs": [
        {
          "output_type": "execute_result",
          "data": {
            "text/html": [
              "<div>\n",
              "<style scoped>\n",
              "    .dataframe tbody tr th:only-of-type {\n",
              "        vertical-align: middle;\n",
              "    }\n",
              "\n",
              "    .dataframe tbody tr th {\n",
              "        vertical-align: top;\n",
              "    }\n",
              "\n",
              "    .dataframe thead th {\n",
              "        text-align: right;\n",
              "    }\n",
              "</style>\n",
              "<table border=\"1\" class=\"dataframe\">\n",
              "  <thead>\n",
              "    <tr style=\"text-align: right;\">\n",
              "      <th></th>\n",
              "      <th>model</th>\n",
              "      <th>Train_Score</th>\n",
              "      <th>Test_accuracy</th>\n",
              "      <th>f1score</th>\n",
              "      <th>recall</th>\n",
              "      <th>precision</th>\n",
              "      <th>roc_auc</th>\n",
              "    </tr>\n",
              "  </thead>\n",
              "  <tbody>\n",
              "    <tr>\n",
              "      <th>0</th>\n",
              "      <td>Basic DT</td>\n",
              "      <td>1.000000</td>\n",
              "      <td>0.942857</td>\n",
              "      <td>0.625000</td>\n",
              "      <td>0.833333</td>\n",
              "      <td>0.500000</td>\n",
              "      <td>0.891414</td>\n",
              "    </tr>\n",
              "    <tr>\n",
              "      <th>1</th>\n",
              "      <td>Basic DT - Grid search</td>\n",
              "      <td>0.966561</td>\n",
              "      <td>0.961905</td>\n",
              "      <td>0.750000</td>\n",
              "      <td>1.000000</td>\n",
              "      <td>0.600000</td>\n",
              "      <td>0.979798</td>\n",
              "    </tr>\n",
              "    <tr>\n",
              "      <th>2</th>\n",
              "      <td>Basic DT - Grid search</td>\n",
              "      <td>0.968153</td>\n",
              "      <td>0.961905</td>\n",
              "      <td>0.733333</td>\n",
              "      <td>0.916667</td>\n",
              "      <td>0.611111</td>\n",
              "      <td>0.940657</td>\n",
              "    </tr>\n",
              "    <tr>\n",
              "      <th>3</th>\n",
              "      <td>DT - SMOTE - Default</td>\n",
              "      <td>1.000000</td>\n",
              "      <td>0.957143</td>\n",
              "      <td>0.727273</td>\n",
              "      <td>1.000000</td>\n",
              "      <td>0.571429</td>\n",
              "      <td>0.977273</td>\n",
              "    </tr>\n",
              "  </tbody>\n",
              "</table>\n",
              "</div>"
            ],
            "text/plain": [
              "                    model  Train_Score  ...  precision   roc_auc\n",
              "0                Basic DT     1.000000  ...   0.500000  0.891414\n",
              "1  Basic DT - Grid search     0.966561  ...   0.600000  0.979798\n",
              "2  Basic DT - Grid search     0.968153  ...   0.611111  0.940657\n",
              "3    DT - SMOTE - Default     1.000000  ...   0.571429  0.977273\n",
              "\n",
              "[4 rows x 7 columns]"
            ]
          },
          "metadata": {
            "tags": []
          },
          "execution_count": 11
        }
      ]
    },
    {
      "cell_type": "code",
      "metadata": {
        "colab": {
          "base_uri": "https://localhost:8080/"
        },
        "id": "hvOYEgyiJE7m",
        "outputId": "42e39410-1da9-4294-8eac-d4bf3a518e0b"
      },
      "source": [
        "tree = DecisionTreeClassifier()\n",
        "tree_param = {\n",
        "    'criterion':['gini','entropy'],\n",
        "    'splitter':['best','random'],\n",
        "    'max_depth':[3,4,5,6],\n",
        "    'max_features':['auto','log2'],\n",
        "    'random_state':[123]\n",
        "}\n",
        "\n",
        "grid = GridSearchCV(tree, tree_param, cv=10)\n",
        "best_parameter_search = grid.fit(x_train_s,y_train_s)\n",
        "best_parameter_search.best_params_"
      ],
      "execution_count": null,
      "outputs": [
        {
          "output_type": "execute_result",
          "data": {
            "text/plain": [
              "{'criterion': 'gini',\n",
              " 'max_depth': 5,\n",
              " 'max_features': 'auto',\n",
              " 'random_state': 123,\n",
              " 'splitter': 'best'}"
            ]
          },
          "metadata": {
            "tags": []
          },
          "execution_count": 12
        }
      ]
    },
    {
      "cell_type": "code",
      "metadata": {
        "colab": {
          "base_uri": "https://localhost:8080/",
          "height": 191
        },
        "id": "FQs-jplKJQGw",
        "outputId": "ab3400e4-3173-44b1-f186-2b51234173bc"
      },
      "source": [
        "res = {}\n",
        "dt_def_smote = DecisionTreeClassifier(criterion= 'gini', max_depth = 5, max_features = 'auto', random_state = 123, splitter = 'best').fit(x_train_s,y_train_s)\n",
        "ypred = dt_def_smote.predict(x_test)\n",
        "res['model'] = 'DT - SMOTE - Grid Search'\n",
        "res['Train_Score'] = dt_def_smote.score(x_train_s,y_train_s)\n",
        "res['Test_accuracy'] = metrics.accuracy_score(y_test,ypred)\n",
        "res['f1score'] = metrics.f1_score(y_test,ypred)\n",
        "res['recall'] = metrics.recall_score(y_test, ypred)\n",
        "res['precision'] = metrics.precision_score(y_test, ypred)\n",
        "dt_def_smote.predict_proba(x_test)\n",
        "res['roc_auc'] = metrics.roc_auc_score(y_test,ypred)\n",
        "\n",
        "results.append(res)\n",
        "pd.DataFrame(results)"
      ],
      "execution_count": null,
      "outputs": [
        {
          "output_type": "execute_result",
          "data": {
            "text/html": [
              "<div>\n",
              "<style scoped>\n",
              "    .dataframe tbody tr th:only-of-type {\n",
              "        vertical-align: middle;\n",
              "    }\n",
              "\n",
              "    .dataframe tbody tr th {\n",
              "        vertical-align: top;\n",
              "    }\n",
              "\n",
              "    .dataframe thead th {\n",
              "        text-align: right;\n",
              "    }\n",
              "</style>\n",
              "<table border=\"1\" class=\"dataframe\">\n",
              "  <thead>\n",
              "    <tr style=\"text-align: right;\">\n",
              "      <th></th>\n",
              "      <th>model</th>\n",
              "      <th>Train_Score</th>\n",
              "      <th>Test_accuracy</th>\n",
              "      <th>f1score</th>\n",
              "      <th>recall</th>\n",
              "      <th>precision</th>\n",
              "      <th>roc_auc</th>\n",
              "    </tr>\n",
              "  </thead>\n",
              "  <tbody>\n",
              "    <tr>\n",
              "      <th>0</th>\n",
              "      <td>Basic DT</td>\n",
              "      <td>1.000000</td>\n",
              "      <td>0.942857</td>\n",
              "      <td>0.625000</td>\n",
              "      <td>0.833333</td>\n",
              "      <td>0.500000</td>\n",
              "      <td>0.891414</td>\n",
              "    </tr>\n",
              "    <tr>\n",
              "      <th>1</th>\n",
              "      <td>Basic DT - Grid search</td>\n",
              "      <td>0.966561</td>\n",
              "      <td>0.961905</td>\n",
              "      <td>0.750000</td>\n",
              "      <td>1.000000</td>\n",
              "      <td>0.600000</td>\n",
              "      <td>0.979798</td>\n",
              "    </tr>\n",
              "    <tr>\n",
              "      <th>2</th>\n",
              "      <td>Basic DT - Grid search</td>\n",
              "      <td>0.968153</td>\n",
              "      <td>0.961905</td>\n",
              "      <td>0.733333</td>\n",
              "      <td>0.916667</td>\n",
              "      <td>0.611111</td>\n",
              "      <td>0.940657</td>\n",
              "    </tr>\n",
              "    <tr>\n",
              "      <th>3</th>\n",
              "      <td>DT - SMOTE - Default</td>\n",
              "      <td>1.000000</td>\n",
              "      <td>0.957143</td>\n",
              "      <td>0.727273</td>\n",
              "      <td>1.000000</td>\n",
              "      <td>0.571429</td>\n",
              "      <td>0.977273</td>\n",
              "    </tr>\n",
              "    <tr>\n",
              "      <th>4</th>\n",
              "      <td>DT - SMOTE - Grid Search</td>\n",
              "      <td>0.983788</td>\n",
              "      <td>0.961905</td>\n",
              "      <td>0.750000</td>\n",
              "      <td>1.000000</td>\n",
              "      <td>0.600000</td>\n",
              "      <td>0.979798</td>\n",
              "    </tr>\n",
              "  </tbody>\n",
              "</table>\n",
              "</div>"
            ],
            "text/plain": [
              "                      model  Train_Score  ...  precision   roc_auc\n",
              "0                  Basic DT     1.000000  ...   0.500000  0.891414\n",
              "1    Basic DT - Grid search     0.966561  ...   0.600000  0.979798\n",
              "2    Basic DT - Grid search     0.968153  ...   0.611111  0.940657\n",
              "3      DT - SMOTE - Default     1.000000  ...   0.571429  0.977273\n",
              "4  DT - SMOTE - Grid Search     0.983788  ...   0.600000  0.979798\n",
              "\n",
              "[5 rows x 7 columns]"
            ]
          },
          "metadata": {
            "tags": []
          },
          "execution_count": 13
        }
      ]
    },
    {
      "cell_type": "markdown",
      "metadata": {
        "id": "TLtt5WKx2q8F"
      },
      "source": [
        "# Feature selection RFE"
      ]
    },
    {
      "cell_type": "markdown",
      "metadata": {
        "id": "kZ9TIA6FMIT0"
      },
      "source": [
        "### SMOTE + RFE"
      ]
    },
    {
      "cell_type": "code",
      "metadata": {
        "id": "u2GqYZpf2qr8"
      },
      "source": [
        "from sklearn.feature_selection import RFE\n",
        "\n",
        "best_fea=[]\n",
        "for i in range(1,df.shape[1]):\n",
        "    fea_res={}\n",
        "    model = RFE(DecisionTreeClassifier(),i).fit(x_train_s,y_train_s)\n",
        "    fea_res['N of features'] = x.columns[model.support_].shape\n",
        "    dt = DecisionTreeClassifier()\n",
        "    dt.fit(x_train_s,y_train_s)\n",
        "    y_pred = dt.predict(x_test)\n",
        "    fea_res['roc_auc'] =  metrics.roc_auc_score(y_test,y_pred)\n",
        "    fea_res['Features'] = x.columns[model.support_]\n",
        "    best_fea.append(fea_res)\n",
        "\n",
        "to_save = pd.DataFrame(best_fea)\n",
        "to_save.to_csv('rfe_smote.csv')"
      ],
      "execution_count": null,
      "outputs": []
    },
    {
      "cell_type": "code",
      "metadata": {
        "colab": {
          "base_uri": "https://localhost:8080/"
        },
        "id": "levZgerp3X6r",
        "outputId": "82a9e94c-0e60-4341-bfd1-0e6a6b59da17"
      },
      "source": [
        "rfe_dt = ['Age', 'No_of_sex_partner', 'First_sexual_intercourse', 'No_pregnancies', 'Smokes_packs_yr', 'Hormonal_Contraceptives', 'Hormonal_Contraceptives_years', 'IUD_years', 'STDs_number', 'STDs_syphilis', 'STDs_pelvic_inflammatory_disease', 'STDs_genital_herpes', 'STDs_molluscum_contagiosum', 'STDs_AIDS', 'Dx_CIN']\n",
        "len(rfe_dt)"
      ],
      "execution_count": null,
      "outputs": [
        {
          "output_type": "execute_result",
          "data": {
            "text/plain": [
              "15"
            ]
          },
          "metadata": {
            "tags": []
          },
          "execution_count": 14
        }
      ]
    },
    {
      "cell_type": "code",
      "metadata": {
        "colab": {
          "base_uri": "https://localhost:8080/",
          "height": 220
        },
        "id": "jw1J0bJj1zEk",
        "outputId": "d80b3479-116b-438f-fba5-471fb3b54289"
      },
      "source": [
        "x_train_s = pd.DataFrame(x_train_s, columns = x.columns)\n",
        "y_train_s = pd.DataFrame(y_train_s, columns = ['Biopsy'])\n",
        "x_test = pd.DataFrame(x_test, columns=x.columns)\n",
        "\n",
        "rfe_dt_df_train = x_train_s[rfe_dt]\n",
        "rfe_dt_df_test = x_test[rfe_dt]\n",
        "\n",
        "res = {}\n",
        "model = DecisionTreeClassifier().fit(rfe_dt_df_train,y_train_s)\n",
        "ypred = model.predict(rfe_dt_df_test)\n",
        "res['model'] = 'DT + RFE + SMOTE'\n",
        "res['Train_Score'] = model.score(rfe_dt_df_train,y_train_s.values)\n",
        "res['Test_accuracy'] = metrics.accuracy_score(y_test,ypred)\n",
        "res['f1score'] = metrics.f1_score(y_test,ypred)\n",
        "res['recall'] = metrics.recall_score(y_test, ypred)\n",
        "res['precision'] = metrics.precision_score(y_test, ypred)\n",
        "model.predict_proba(rfe_dt_df_test)\n",
        "res['roc_auc'] = metrics.roc_auc_score(y_test,ypred)\n",
        "\n",
        "results.append(res)\n",
        "pd.DataFrame(results)"
      ],
      "execution_count": null,
      "outputs": [
        {
          "output_type": "execute_result",
          "data": {
            "text/html": [
              "<div>\n",
              "<style scoped>\n",
              "    .dataframe tbody tr th:only-of-type {\n",
              "        vertical-align: middle;\n",
              "    }\n",
              "\n",
              "    .dataframe tbody tr th {\n",
              "        vertical-align: top;\n",
              "    }\n",
              "\n",
              "    .dataframe thead th {\n",
              "        text-align: right;\n",
              "    }\n",
              "</style>\n",
              "<table border=\"1\" class=\"dataframe\">\n",
              "  <thead>\n",
              "    <tr style=\"text-align: right;\">\n",
              "      <th></th>\n",
              "      <th>model</th>\n",
              "      <th>Train_Score</th>\n",
              "      <th>Test_accuracy</th>\n",
              "      <th>f1score</th>\n",
              "      <th>recall</th>\n",
              "      <th>precision</th>\n",
              "      <th>roc_auc</th>\n",
              "    </tr>\n",
              "  </thead>\n",
              "  <tbody>\n",
              "    <tr>\n",
              "      <th>0</th>\n",
              "      <td>Basic DT</td>\n",
              "      <td>0.998408</td>\n",
              "      <td>0.895238</td>\n",
              "      <td>0.153846</td>\n",
              "      <td>0.166667</td>\n",
              "      <td>0.142857</td>\n",
              "      <td>0.553030</td>\n",
              "    </tr>\n",
              "    <tr>\n",
              "      <th>1</th>\n",
              "      <td>Basic DT - Grid search</td>\n",
              "      <td>0.941083</td>\n",
              "      <td>0.942857</td>\n",
              "      <td>0.142857</td>\n",
              "      <td>0.083333</td>\n",
              "      <td>0.500000</td>\n",
              "      <td>0.539141</td>\n",
              "    </tr>\n",
              "    <tr>\n",
              "      <th>2</th>\n",
              "      <td>DT - SMOTE - Default</td>\n",
              "      <td>0.999147</td>\n",
              "      <td>0.890476</td>\n",
              "      <td>0.148148</td>\n",
              "      <td>0.166667</td>\n",
              "      <td>0.133333</td>\n",
              "      <td>0.550505</td>\n",
              "    </tr>\n",
              "    <tr>\n",
              "      <th>3</th>\n",
              "      <td>DT - SMOTE - Grid Search</td>\n",
              "      <td>0.829352</td>\n",
              "      <td>0.866667</td>\n",
              "      <td>0.125000</td>\n",
              "      <td>0.166667</td>\n",
              "      <td>0.100000</td>\n",
              "      <td>0.537879</td>\n",
              "    </tr>\n",
              "    <tr>\n",
              "      <th>4</th>\n",
              "      <td>DT - SMOTE - Grid Search</td>\n",
              "      <td>0.829352</td>\n",
              "      <td>0.866667</td>\n",
              "      <td>0.125000</td>\n",
              "      <td>0.166667</td>\n",
              "      <td>0.100000</td>\n",
              "      <td>0.537879</td>\n",
              "    </tr>\n",
              "    <tr>\n",
              "      <th>5</th>\n",
              "      <td>DT + RFE + SMOTE</td>\n",
              "      <td>0.999147</td>\n",
              "      <td>0.880952</td>\n",
              "      <td>0.074074</td>\n",
              "      <td>0.083333</td>\n",
              "      <td>0.066667</td>\n",
              "      <td>0.506313</td>\n",
              "    </tr>\n",
              "  </tbody>\n",
              "</table>\n",
              "</div>"
            ],
            "text/plain": [
              "                      model  Train_Score  ...  precision   roc_auc\n",
              "0                  Basic DT     0.998408  ...   0.142857  0.553030\n",
              "1    Basic DT - Grid search     0.941083  ...   0.500000  0.539141\n",
              "2      DT - SMOTE - Default     0.999147  ...   0.133333  0.550505\n",
              "3  DT - SMOTE - Grid Search     0.829352  ...   0.100000  0.537879\n",
              "4  DT - SMOTE - Grid Search     0.829352  ...   0.100000  0.537879\n",
              "5          DT + RFE + SMOTE     0.999147  ...   0.066667  0.506313\n",
              "\n",
              "[6 rows x 7 columns]"
            ]
          },
          "metadata": {
            "tags": []
          },
          "execution_count": 15
        }
      ]
    },
    {
      "cell_type": "markdown",
      "metadata": {
        "id": "Q5DWfIRgrn9m"
      },
      "source": [
        "### RFE only\n",
        "*Without sampling data*"
      ]
    },
    {
      "cell_type": "code",
      "metadata": {
        "colab": {
          "base_uri": "https://localhost:8080/"
        },
        "id": "4C6YIvOB3wi3",
        "outputId": "bb559aff-ac4c-4929-cf44-6d074e4a09a3"
      },
      "source": [
        "best_fea2=[]\n",
        "for i in range(1,df.shape[1]):\n",
        "    fea_res={}\n",
        "    model = RFE(DecisionTreeClassifier(),i).fit(x_train,y_train)\n",
        "\n",
        "    fea_res['N of features'] = x.columns[model.support_].shape\n",
        "    dt = DecisionTreeClassifier()\n",
        "    dt.fit(x_train,y_train)\n",
        "    y_pred = dt.predict(x_test)\n",
        "    fea_res['roc_auc'] =  metrics.roc_auc_score(y_test,y_pred)\n",
        "    fea_res['Features'] = x.columns[model.support_]\n",
        "    print(fea_res)\n",
        "    best_fea2.append(fea_res)\n",
        "\n",
        "to_save = pd.DataFrame(best_fea2)\n",
        "to_save.to_csv('rfe_only.csv')"
      ],
      "execution_count": null,
      "outputs": [
        {
          "output_type": "stream",
          "text": [
            "{'N of features': (1,), 'roc_auc': 0.5921717171717172, 'Features': Index(['Age'], dtype='object')}\n",
            "{'N of features': (2,), 'roc_auc': 0.5871212121212122, 'Features': Index(['Age', 'Hormonal_Contraceptives_years'], dtype='object')}\n",
            "{'N of features': (3,), 'roc_auc': 0.5454545454545454, 'Features': Index(['Age', 'No_of_sex_partner', 'Hormonal_Contraceptives_years'], dtype='object')}\n",
            "{'N of features': (4,), 'roc_auc': 0.5530303030303031, 'Features': Index(['Age', 'No_of_sex_partner', 'First_sexual_intercourse',\n",
            "       'Hormonal_Contraceptives_years'],\n",
            "      dtype='object')}\n",
            "{'N of features': (5,), 'roc_auc': 0.5871212121212122, 'Features': Index(['Age', 'No_of_sex_partner', 'First_sexual_intercourse',\n",
            "       'No_pregnancies', 'Hormonal_Contraceptives_years'],\n",
            "      dtype='object')}\n",
            "{'N of features': (6,), 'roc_auc': 0.5454545454545454, 'Features': Index(['Age', 'No_of_sex_partner', 'First_sexual_intercourse',\n",
            "       'No_pregnancies', 'Smokes_packs_yr', 'Hormonal_Contraceptives_years'],\n",
            "      dtype='object')}\n",
            "{'N of features': (7,), 'roc_auc': 0.5871212121212122, 'Features': Index(['Age', 'No_of_sex_partner', 'First_sexual_intercourse',\n",
            "       'No_pregnancies', 'Smokes_yrs', 'Smokes_packs_yr',\n",
            "       'Hormonal_Contraceptives_years'],\n",
            "      dtype='object')}\n",
            "{'N of features': (8,), 'roc_auc': 0.5896464646464646, 'Features': Index(['Age', 'No_of_sex_partner', 'First_sexual_intercourse',\n",
            "       'No_pregnancies', 'Smokes_yrs', 'Smokes_packs_yr',\n",
            "       'Hormonal_Contraceptives_years', 'Dx_Cancer'],\n",
            "      dtype='object')}\n",
            "{'N of features': (9,), 'roc_auc': 0.5845959595959596, 'Features': Index(['Age', 'No_of_sex_partner', 'First_sexual_intercourse',\n",
            "       'No_pregnancies', 'Smokes_yrs', 'Smokes_packs_yr',\n",
            "       'Hormonal_Contraceptives_years', 'STDs_HIV', 'Dx_Cancer'],\n",
            "      dtype='object')}\n",
            "{'N of features': (10,), 'roc_auc': 0.5845959595959596, 'Features': Index(['Age', 'No_of_sex_partner', 'First_sexual_intercourse',\n",
            "       'No_pregnancies', 'Smokes_yrs', 'Smokes_packs_yr',\n",
            "       'Hormonal_Contraceptives_years', 'STDs_HIV', 'Dx_Cancer', 'Dx_CIN'],\n",
            "      dtype='object')}\n",
            "{'N of features': (11,), 'roc_auc': 0.5845959595959596, 'Features': Index(['Age', 'No_of_sex_partner', 'First_sexual_intercourse',\n",
            "       'No_pregnancies', 'Smokes_yrs', 'Smokes_packs_yr',\n",
            "       'Hormonal_Contraceptives_years', 'STDs_genital_herpes', 'STDs_HIV',\n",
            "       'Dx_Cancer', 'Dx_CIN'],\n",
            "      dtype='object')}\n",
            "{'N of features': (12,), 'roc_auc': 0.5896464646464646, 'Features': Index(['Age', 'No_of_sex_partner', 'First_sexual_intercourse',\n",
            "       'No_pregnancies', 'Smokes_yrs', 'Smokes_packs_yr',\n",
            "       'Hormonal_Contraceptives_years', 'IUD_years', 'STDs_genital_herpes',\n",
            "       'STDs_HIV', 'Dx_Cancer', 'Dx_CIN'],\n",
            "      dtype='object')}\n",
            "{'N of features': (13,), 'roc_auc': 0.5871212121212122, 'Features': Index(['Age', 'No_of_sex_partner', 'First_sexual_intercourse',\n",
            "       'No_pregnancies', 'Smokes_yrs', 'Smokes_packs_yr',\n",
            "       'Hormonal_Contraceptives', 'Hormonal_Contraceptives_years', 'IUD_years',\n",
            "       'STDs_genital_herpes', 'STDs_HIV', 'Dx_Cancer', 'Dx_CIN'],\n",
            "      dtype='object')}\n",
            "{'N of features': (14,), 'roc_auc': 0.5921717171717172, 'Features': Index(['Age', 'No_of_sex_partner', 'First_sexual_intercourse',\n",
            "       'No_pregnancies', 'Smokes_yrs', 'Smokes_packs_yr',\n",
            "       'Hormonal_Contraceptives', 'Hormonal_Contraceptives_years', 'IUD_years',\n",
            "       'STDs_vulvo_perineal_condylomatosis', 'STDs_genital_herpes', 'STDs_HIV',\n",
            "       'Dx_Cancer', 'Dx_CIN'],\n",
            "      dtype='object')}\n",
            "{'N of features': (15,), 'roc_auc': 0.5479797979797979, 'Features': Index(['Age', 'No_of_sex_partner', 'First_sexual_intercourse',\n",
            "       'No_pregnancies', 'Smokes_yrs', 'Smokes_packs_yr',\n",
            "       'Hormonal_Contraceptives', 'Hormonal_Contraceptives_years', 'IUD_years',\n",
            "       'STDs_vulvo_perineal_condylomatosis',\n",
            "       'STDs_pelvic_inflammatory_disease', 'STDs_genital_herpes', 'STDs_HIV',\n",
            "       'Dx_Cancer', 'Dx_CIN'],\n",
            "      dtype='object')}\n",
            "{'N of features': (16,), 'roc_auc': 0.5871212121212122, 'Features': Index(['Age', 'No_of_sex_partner', 'First_sexual_intercourse',\n",
            "       'No_pregnancies', 'Smokes_yrs', 'Smokes_packs_yr',\n",
            "       'Hormonal_Contraceptives', 'Hormonal_Contraceptives_years', 'IUD_years',\n",
            "       'STDs_vulvo_perineal_condylomatosis', 'STDs_syphilis',\n",
            "       'STDs_pelvic_inflammatory_disease', 'STDs_genital_herpes', 'STDs_HIV',\n",
            "       'Dx_Cancer', 'Dx_CIN'],\n",
            "      dtype='object')}\n",
            "{'N of features': (17,), 'roc_auc': 0.5871212121212122, 'Features': Index(['Age', 'No_of_sex_partner', 'First_sexual_intercourse',\n",
            "       'No_pregnancies', 'Smokes_yrs', 'Smokes_packs_yr',\n",
            "       'Hormonal_Contraceptives', 'Hormonal_Contraceptives_years', 'IUD',\n",
            "       'IUD_years', 'STDs_vulvo_perineal_condylomatosis', 'STDs_syphilis',\n",
            "       'STDs_pelvic_inflammatory_disease', 'STDs_genital_herpes', 'STDs_HIV',\n",
            "       'Dx_Cancer', 'Dx_CIN'],\n",
            "      dtype='object')}\n",
            "{'N of features': (18,), 'roc_auc': 0.5871212121212122, 'Features': Index(['Age', 'No_of_sex_partner', 'First_sexual_intercourse',\n",
            "       'No_pregnancies', 'Smokes', 'Smokes_yrs', 'Smokes_packs_yr',\n",
            "       'Hormonal_Contraceptives', 'Hormonal_Contraceptives_years', 'IUD_years',\n",
            "       'STDs_vulvo_perineal_condylomatosis', 'STDs_syphilis',\n",
            "       'STDs_pelvic_inflammatory_disease', 'STDs_genital_herpes',\n",
            "       'STDs_molluscum_contagiosum', 'STDs_HIV', 'Dx_Cancer', 'Dx_CIN'],\n",
            "      dtype='object')}\n",
            "{'N of features': (19,), 'roc_auc': 0.5946969696969697, 'Features': Index(['Age', 'No_of_sex_partner', 'First_sexual_intercourse',\n",
            "       'No_pregnancies', 'Smokes', 'Smokes_yrs', 'Smokes_packs_yr',\n",
            "       'Hormonal_Contraceptives', 'Hormonal_Contraceptives_years', 'IUD_years',\n",
            "       'STDs_vulvo_perineal_condylomatosis', 'STDs_syphilis',\n",
            "       'STDs_pelvic_inflammatory_disease', 'STDs_genital_herpes',\n",
            "       'STDs_molluscum_contagiosum', 'STDs_AIDS', 'STDs_HIV', 'Dx_Cancer',\n",
            "       'Dx_CIN'],\n",
            "      dtype='object')}\n",
            "{'N of features': (20,), 'roc_auc': 0.5404040404040404, 'Features': Index(['Age', 'No_of_sex_partner', 'First_sexual_intercourse',\n",
            "       'No_pregnancies', 'Smokes', 'Smokes_yrs', 'Smokes_packs_yr',\n",
            "       'Hormonal_Contraceptives', 'Hormonal_Contraceptives_years', 'IUD',\n",
            "       'IUD_years', 'STDs_vulvo_perineal_condylomatosis', 'STDs_syphilis',\n",
            "       'STDs_pelvic_inflammatory_disease', 'STDs_genital_herpes',\n",
            "       'STDs_molluscum_contagiosum', 'STDs_AIDS', 'STDs_HIV', 'Dx_Cancer',\n",
            "       'Dx_CIN'],\n",
            "      dtype='object')}\n",
            "{'N of features': (21,), 'roc_auc': 0.5505050505050506, 'Features': Index(['Age', 'No_of_sex_partner', 'First_sexual_intercourse',\n",
            "       'No_pregnancies', 'Smokes', 'Smokes_yrs', 'Smokes_packs_yr',\n",
            "       'Hormonal_Contraceptives', 'Hormonal_Contraceptives_years', 'IUD',\n",
            "       'IUD_years', 'STDs_vulvo_perineal_condylomatosis', 'STDs_syphilis',\n",
            "       'STDs_pelvic_inflammatory_disease', 'STDs_genital_herpes',\n",
            "       'STDs_molluscum_contagiosum', 'STDs_AIDS', 'STDs_HIV',\n",
            "       'STDs_Hepatitis_B', 'Dx_Cancer', 'Dx_CIN'],\n",
            "      dtype='object')}\n",
            "{'N of features': (22,), 'roc_auc': 0.5530303030303031, 'Features': Index(['Age', 'No_of_sex_partner', 'First_sexual_intercourse',\n",
            "       'No_pregnancies', 'Smokes', 'Smokes_yrs', 'Smokes_packs_yr',\n",
            "       'Hormonal_Contraceptives', 'Hormonal_Contraceptives_years', 'IUD',\n",
            "       'IUD_years', 'STDs_vulvo_perineal_condylomatosis', 'STDs_syphilis',\n",
            "       'STDs_pelvic_inflammatory_disease', 'STDs_genital_herpes', 'STDs_AIDS',\n",
            "       'STDs_HIV', 'STDs_Hepatitis_B', 'Dx_Cancer', 'Dx_CIN', 'Dx_HPV', 'Dx'],\n",
            "      dtype='object')}\n",
            "{'N of features': (23,), 'roc_auc': 0.5896464646464646, 'Features': Index(['Age', 'No_of_sex_partner', 'First_sexual_intercourse',\n",
            "       'No_pregnancies', 'Smokes', 'Smokes_yrs', 'Smokes_packs_yr',\n",
            "       'Hormonal_Contraceptives', 'Hormonal_Contraceptives_years', 'IUD',\n",
            "       'IUD_years', 'STDs_vulvo_perineal_condylomatosis', 'STDs_syphilis',\n",
            "       'STDs_pelvic_inflammatory_disease', 'STDs_genital_herpes', 'STDs_AIDS',\n",
            "       'STDs_HIV', 'STDs_Hepatitis_B', 'STDs_HPV', 'Dx_Cancer', 'Dx_CIN',\n",
            "       'Dx_HPV', 'Dx'],\n",
            "      dtype='object')}\n",
            "{'N of features': (24,), 'roc_auc': 0.5896464646464646, 'Features': Index(['Age', 'No_of_sex_partner', 'First_sexual_intercourse',\n",
            "       'No_pregnancies', 'Smokes', 'Smokes_yrs', 'Smokes_packs_yr',\n",
            "       'Hormonal_Contraceptives', 'Hormonal_Contraceptives_years', 'IUD',\n",
            "       'IUD_years', 'STDs', 'STDs_vulvo_perineal_condylomatosis',\n",
            "       'STDs_syphilis', 'STDs_pelvic_inflammatory_disease',\n",
            "       'STDs_genital_herpes', 'STDs_molluscum_contagiosum', 'STDs_AIDS',\n",
            "       'STDs_HIV', 'STDs_Hepatitis_B', 'STDs_HPV', 'STDs_No_of_diagnosis',\n",
            "       'Dx_Cancer', 'Dx_CIN'],\n",
            "      dtype='object')}\n",
            "{'N of features': (25,), 'roc_auc': 0.5505050505050506, 'Features': Index(['Age', 'No_of_sex_partner', 'First_sexual_intercourse',\n",
            "       'No_pregnancies', 'Smokes', 'Smokes_yrs', 'Smokes_packs_yr',\n",
            "       'Hormonal_Contraceptives', 'Hormonal_Contraceptives_years', 'IUD',\n",
            "       'IUD_years', 'STDs', 'STDs_vulvo_perineal_condylomatosis',\n",
            "       'STDs_syphilis', 'STDs_pelvic_inflammatory_disease',\n",
            "       'STDs_genital_herpes', 'STDs_molluscum_contagiosum', 'STDs_AIDS',\n",
            "       'STDs_HIV', 'STDs_Hepatitis_B', 'STDs_HPV', 'STDs_No_of_diagnosis',\n",
            "       'Dx_Cancer', 'Dx_CIN', 'Dx_HPV'],\n",
            "      dtype='object')}\n",
            "{'N of features': (26,), 'roc_auc': 0.5921717171717172, 'Features': Index(['Age', 'No_of_sex_partner', 'First_sexual_intercourse',\n",
            "       'No_pregnancies', 'Smokes', 'Smokes_yrs', 'Smokes_packs_yr',\n",
            "       'Hormonal_Contraceptives', 'Hormonal_Contraceptives_years', 'IUD',\n",
            "       'IUD_years', 'STDs', 'STDs_number',\n",
            "       'STDs_vulvo_perineal_condylomatosis', 'STDs_syphilis',\n",
            "       'STDs_pelvic_inflammatory_disease', 'STDs_genital_herpes',\n",
            "       'STDs_molluscum_contagiosum', 'STDs_AIDS', 'STDs_HIV',\n",
            "       'STDs_Hepatitis_B', 'STDs_HPV', 'STDs_No_of_diagnosis', 'Dx_Cancer',\n",
            "       'Dx_CIN', 'Dx_HPV'],\n",
            "      dtype='object')}\n",
            "{'N of features': (27,), 'roc_auc': 0.5505050505050506, 'Features': Index(['Age', 'No_of_sex_partner', 'First_sexual_intercourse',\n",
            "       'No_pregnancies', 'Smokes', 'Smokes_yrs', 'Smokes_packs_yr',\n",
            "       'Hormonal_Contraceptives', 'Hormonal_Contraceptives_years', 'IUD',\n",
            "       'IUD_years', 'STDs', 'STDs_number',\n",
            "       'STDs_vulvo_perineal_condylomatosis', 'STDs_syphilis',\n",
            "       'STDs_pelvic_inflammatory_disease', 'STDs_genital_herpes',\n",
            "       'STDs_molluscum_contagiosum', 'STDs_AIDS', 'STDs_HIV',\n",
            "       'STDs_Hepatitis_B', 'STDs_HPV', 'STDs_No_of_diagnosis', 'Dx_Cancer',\n",
            "       'Dx_CIN', 'Dx_HPV', 'Dx'],\n",
            "      dtype='object')}\n",
            "{'N of features': (28,), 'roc_auc': 0.5921717171717172, 'Features': Index(['Age', 'No_of_sex_partner', 'First_sexual_intercourse',\n",
            "       'No_pregnancies', 'Smokes', 'Smokes_yrs', 'Smokes_packs_yr',\n",
            "       'Hormonal_Contraceptives', 'Hormonal_Contraceptives_years', 'IUD',\n",
            "       'IUD_years', 'STDs', 'STDs_number', 'STDs_condylomatosis',\n",
            "       'STDs_vulvo_perineal_condylomatosis', 'STDs_syphilis',\n",
            "       'STDs_pelvic_inflammatory_disease', 'STDs_genital_herpes',\n",
            "       'STDs_molluscum_contagiosum', 'STDs_AIDS', 'STDs_HIV',\n",
            "       'STDs_Hepatitis_B', 'STDs_HPV', 'STDs_No_of_diagnosis', 'Dx_Cancer',\n",
            "       'Dx_CIN', 'Dx_HPV', 'Dx'],\n",
            "      dtype='object')}\n",
            "{'N of features': (29,), 'roc_auc': 0.5479797979797979, 'Features': Index(['Age', 'No_of_sex_partner', 'First_sexual_intercourse',\n",
            "       'No_pregnancies', 'Smokes', 'Smokes_yrs', 'Smokes_packs_yr',\n",
            "       'Hormonal_Contraceptives', 'Hormonal_Contraceptives_years', 'IUD',\n",
            "       'IUD_years', 'STDs', 'STDs_number', 'STDs_condylomatosis',\n",
            "       'STDs_vaginal_condylomatosis', 'STDs_vulvo_perineal_condylomatosis',\n",
            "       'STDs_syphilis', 'STDs_pelvic_inflammatory_disease',\n",
            "       'STDs_genital_herpes', 'STDs_molluscum_contagiosum', 'STDs_AIDS',\n",
            "       'STDs_HIV', 'STDs_Hepatitis_B', 'STDs_HPV', 'STDs_No_of_diagnosis',\n",
            "       'Dx_Cancer', 'Dx_CIN', 'Dx_HPV', 'Dx'],\n",
            "      dtype='object')}\n",
            "{'N of features': (30,), 'roc_auc': 0.5845959595959596, 'Features': Index(['Age', 'No_of_sex_partner', 'First_sexual_intercourse',\n",
            "       'No_pregnancies', 'Smokes', 'Smokes_yrs', 'Smokes_packs_yr',\n",
            "       'Hormonal_Contraceptives', 'Hormonal_Contraceptives_years', 'IUD',\n",
            "       'IUD_years', 'STDs', 'STDs_number', 'STDs_condylomatosis',\n",
            "       'STDs_cervical_condylomatosis', 'STDs_vaginal_condylomatosis',\n",
            "       'STDs_vulvo_perineal_condylomatosis', 'STDs_syphilis',\n",
            "       'STDs_pelvic_inflammatory_disease', 'STDs_genital_herpes',\n",
            "       'STDs_molluscum_contagiosum', 'STDs_AIDS', 'STDs_HIV',\n",
            "       'STDs_Hepatitis_B', 'STDs_HPV', 'STDs_No_of_diagnosis', 'Dx_Cancer',\n",
            "       'Dx_CIN', 'Dx_HPV', 'Dx'],\n",
            "      dtype='object')}\n",
            "{'N of features': (30,), 'roc_auc': 0.5505050505050506, 'Features': Index(['Age', 'No_of_sex_partner', 'First_sexual_intercourse',\n",
            "       'No_pregnancies', 'Smokes', 'Smokes_yrs', 'Smokes_packs_yr',\n",
            "       'Hormonal_Contraceptives', 'Hormonal_Contraceptives_years', 'IUD',\n",
            "       'IUD_years', 'STDs', 'STDs_number', 'STDs_condylomatosis',\n",
            "       'STDs_cervical_condylomatosis', 'STDs_vaginal_condylomatosis',\n",
            "       'STDs_vulvo_perineal_condylomatosis', 'STDs_syphilis',\n",
            "       'STDs_pelvic_inflammatory_disease', 'STDs_genital_herpes',\n",
            "       'STDs_molluscum_contagiosum', 'STDs_AIDS', 'STDs_HIV',\n",
            "       'STDs_Hepatitis_B', 'STDs_HPV', 'STDs_No_of_diagnosis', 'Dx_Cancer',\n",
            "       'Dx_CIN', 'Dx_HPV', 'Dx'],\n",
            "      dtype='object')}\n",
            "{'N of features': (30,), 'roc_auc': 0.5429292929292929, 'Features': Index(['Age', 'No_of_sex_partner', 'First_sexual_intercourse',\n",
            "       'No_pregnancies', 'Smokes', 'Smokes_yrs', 'Smokes_packs_yr',\n",
            "       'Hormonal_Contraceptives', 'Hormonal_Contraceptives_years', 'IUD',\n",
            "       'IUD_years', 'STDs', 'STDs_number', 'STDs_condylomatosis',\n",
            "       'STDs_cervical_condylomatosis', 'STDs_vaginal_condylomatosis',\n",
            "       'STDs_vulvo_perineal_condylomatosis', 'STDs_syphilis',\n",
            "       'STDs_pelvic_inflammatory_disease', 'STDs_genital_herpes',\n",
            "       'STDs_molluscum_contagiosum', 'STDs_AIDS', 'STDs_HIV',\n",
            "       'STDs_Hepatitis_B', 'STDs_HPV', 'STDs_No_of_diagnosis', 'Dx_Cancer',\n",
            "       'Dx_CIN', 'Dx_HPV', 'Dx'],\n",
            "      dtype='object')}\n",
            "{'N of features': (30,), 'roc_auc': 0.5479797979797979, 'Features': Index(['Age', 'No_of_sex_partner', 'First_sexual_intercourse',\n",
            "       'No_pregnancies', 'Smokes', 'Smokes_yrs', 'Smokes_packs_yr',\n",
            "       'Hormonal_Contraceptives', 'Hormonal_Contraceptives_years', 'IUD',\n",
            "       'IUD_years', 'STDs', 'STDs_number', 'STDs_condylomatosis',\n",
            "       'STDs_cervical_condylomatosis', 'STDs_vaginal_condylomatosis',\n",
            "       'STDs_vulvo_perineal_condylomatosis', 'STDs_syphilis',\n",
            "       'STDs_pelvic_inflammatory_disease', 'STDs_genital_herpes',\n",
            "       'STDs_molluscum_contagiosum', 'STDs_AIDS', 'STDs_HIV',\n",
            "       'STDs_Hepatitis_B', 'STDs_HPV', 'STDs_No_of_diagnosis', 'Dx_Cancer',\n",
            "       'Dx_CIN', 'Dx_HPV', 'Dx'],\n",
            "      dtype='object')}\n"
          ],
          "name": "stdout"
        }
      ]
    },
    {
      "cell_type": "code",
      "metadata": {
        "colab": {
          "base_uri": "https://localhost:8080/"
        },
        "id": "KO89_rCjsKno",
        "outputId": "54df45da-5123-45a5-8bbe-74353200c0b2"
      },
      "source": [
        "rfe_dt = ['Age', 'No_of_sex_partner', 'First_sexual_intercourse',\n",
        "       'No_pregnancies', 'Smokes', 'Smokes_yrs', 'Smokes_packs_yr',\n",
        "       'Hormonal_Contraceptives', 'Hormonal_Contraceptives_years', 'IUD_years',\n",
        "       'STDs_genital_herpes', 'STDs_molluscum_contagiosum', 'STDs_AIDS',\n",
        "       'STDs_HIV', 'STDs_No_of_diagnosis', 'Dx_CIN']\n",
        "\n",
        "len(rfe_dt)"
      ],
      "execution_count": null,
      "outputs": [
        {
          "output_type": "execute_result",
          "data": {
            "text/plain": [
              "16"
            ]
          },
          "metadata": {
            "tags": []
          },
          "execution_count": 41
        }
      ]
    },
    {
      "cell_type": "code",
      "metadata": {
        "colab": {
          "base_uri": "https://localhost:8080/",
          "height": 235
        },
        "id": "V2J5voSJsMVJ",
        "outputId": "d837fe71-5e4d-48a7-e9be-524f905f4154"
      },
      "source": [
        "x_train_rfe = pd.DataFrame(x_train, columns = x.columns)\n",
        "y_train_rfe = pd.DataFrame(y_train, columns = ['Biopsy'])\n",
        "x_test = pd.DataFrame(x_test, columns=x.columns)\n",
        "\n",
        "rfe_dt_df_train = x_train_rfe[rfe_dt]\n",
        "rfe_dt_df_test = x_test[rfe_dt]\n",
        "\n",
        "res = {}\n",
        "model = DecisionTreeClassifier().fit(rfe_dt_df_train,y_train)\n",
        "ypred = model.predict(rfe_dt_df_test)\n",
        "res['model'] = 'DT + RFE'\n",
        "res['Train_Score'] = model.score(rfe_dt_df_train,y_train.values)\n",
        "res['Test_accuracy'] = metrics.accuracy_score(y_test,ypred)\n",
        "res['f1score'] = metrics.f1_score(y_test,ypred)\n",
        "res['recall'] = metrics.recall_score(y_test, ypred)\n",
        "res['precision'] = metrics.precision_score(y_test, ypred)\n",
        "model.predict_proba(rfe_dt_df_test)\n",
        "res['roc_auc'] = metrics.roc_auc_score(y_test,ypred)\n",
        "\n",
        "results.append(res)\n",
        "pd.DataFrame(results)"
      ],
      "execution_count": null,
      "outputs": [
        {
          "output_type": "execute_result",
          "data": {
            "text/html": [
              "<div>\n",
              "<style scoped>\n",
              "    .dataframe tbody tr th:only-of-type {\n",
              "        vertical-align: middle;\n",
              "    }\n",
              "\n",
              "    .dataframe tbody tr th {\n",
              "        vertical-align: top;\n",
              "    }\n",
              "\n",
              "    .dataframe thead th {\n",
              "        text-align: right;\n",
              "    }\n",
              "</style>\n",
              "<table border=\"1\" class=\"dataframe\">\n",
              "  <thead>\n",
              "    <tr style=\"text-align: right;\">\n",
              "      <th></th>\n",
              "      <th>model</th>\n",
              "      <th>Train_Score</th>\n",
              "      <th>Test_accuracy</th>\n",
              "      <th>f1score</th>\n",
              "      <th>recall</th>\n",
              "      <th>precision</th>\n",
              "      <th>roc_auc</th>\n",
              "    </tr>\n",
              "  </thead>\n",
              "  <tbody>\n",
              "    <tr>\n",
              "      <th>0</th>\n",
              "      <td>Basic DT</td>\n",
              "      <td>0.998408</td>\n",
              "      <td>0.890476</td>\n",
              "      <td>0.148148</td>\n",
              "      <td>0.166667</td>\n",
              "      <td>0.133333</td>\n",
              "      <td>0.550505</td>\n",
              "    </tr>\n",
              "    <tr>\n",
              "      <th>1</th>\n",
              "      <td>Basic DT - Grid search</td>\n",
              "      <td>0.941083</td>\n",
              "      <td>0.942857</td>\n",
              "      <td>0.142857</td>\n",
              "      <td>0.083333</td>\n",
              "      <td>0.500000</td>\n",
              "      <td>0.539141</td>\n",
              "    </tr>\n",
              "    <tr>\n",
              "      <th>2</th>\n",
              "      <td>DT - SMOTE - Default</td>\n",
              "      <td>0.999147</td>\n",
              "      <td>0.895238</td>\n",
              "      <td>0.153846</td>\n",
              "      <td>0.166667</td>\n",
              "      <td>0.142857</td>\n",
              "      <td>0.553030</td>\n",
              "    </tr>\n",
              "    <tr>\n",
              "      <th>3</th>\n",
              "      <td>DT - SMOTE - Grid Search</td>\n",
              "      <td>0.829352</td>\n",
              "      <td>0.866667</td>\n",
              "      <td>0.125000</td>\n",
              "      <td>0.166667</td>\n",
              "      <td>0.100000</td>\n",
              "      <td>0.537879</td>\n",
              "    </tr>\n",
              "    <tr>\n",
              "      <th>4</th>\n",
              "      <td>DT + RFE + SMOTE</td>\n",
              "      <td>0.999147</td>\n",
              "      <td>0.852381</td>\n",
              "      <td>0.060606</td>\n",
              "      <td>0.083333</td>\n",
              "      <td>0.047619</td>\n",
              "      <td>0.491162</td>\n",
              "    </tr>\n",
              "    <tr>\n",
              "      <th>5</th>\n",
              "      <td>DT + RFE</td>\n",
              "      <td>0.998408</td>\n",
              "      <td>0.871429</td>\n",
              "      <td>0.228571</td>\n",
              "      <td>0.333333</td>\n",
              "      <td>0.173913</td>\n",
              "      <td>0.618687</td>\n",
              "    </tr>\n",
              "  </tbody>\n",
              "</table>\n",
              "</div>"
            ],
            "text/plain": [
              "                      model  Train_Score  ...  precision   roc_auc\n",
              "0                  Basic DT     0.998408  ...   0.133333  0.550505\n",
              "1    Basic DT - Grid search     0.941083  ...   0.500000  0.539141\n",
              "2      DT - SMOTE - Default     0.999147  ...   0.142857  0.553030\n",
              "3  DT - SMOTE - Grid Search     0.829352  ...   0.100000  0.537879\n",
              "4          DT + RFE + SMOTE     0.999147  ...   0.047619  0.491162\n",
              "5                  DT + RFE     0.998408  ...   0.173913  0.618687\n",
              "\n",
              "[6 rows x 7 columns]"
            ]
          },
          "metadata": {
            "tags": []
          },
          "execution_count": 42
        }
      ]
    },
    {
      "cell_type": "markdown",
      "metadata": {
        "id": "Hng11neG39Am"
      },
      "source": [
        "# Hyperparameter tuning"
      ]
    },
    {
      "cell_type": "markdown",
      "metadata": {
        "id": "tJTJIkpjovWZ"
      },
      "source": [
        "*Used Grid Search Cross Validation for Decision Trees and Randomized Search Cross Validation for Random Forest (GridSearchCV may taker longer time) for chosing the best paramter values*"
      ]
    },
    {
      "cell_type": "markdown",
      "metadata": {
        "id": "NwDebIFvw9Ni"
      },
      "source": [
        "RFE+SMOTE+GRIDSEARCH"
      ]
    },
    {
      "cell_type": "code",
      "metadata": {
        "colab": {
          "base_uri": "https://localhost:8080/"
        },
        "id": "f8h28-78oxmT",
        "outputId": "a61a9e38-0e17-485d-c207-279149b95db2"
      },
      "source": [
        "tree = DecisionTreeClassifier()\n",
        "tree_param = {\n",
        "    'criterion':['gini','entropy'],\n",
        "    'splitter':['best','random'],\n",
        "    'max_depth':[3,4,5,6],\n",
        "    'max_features':['auto','log2'],\n",
        "    'random_state':[123]\n",
        "}\n",
        "\n",
        "grid = GridSearchCV(tree, tree_param, cv=10)\n",
        "best_parameter_search = grid.fit(rfe_dt_df_train,y_train)\n",
        "best_parameter_search.best_params_"
      ],
      "execution_count": null,
      "outputs": [
        {
          "output_type": "execute_result",
          "data": {
            "text/plain": [
              "{'criterion': 'entropy',\n",
              " 'max_depth': 4,\n",
              " 'max_features': 'auto',\n",
              " 'random_state': 123,\n",
              " 'splitter': 'best'}"
            ]
          },
          "metadata": {
            "tags": []
          },
          "execution_count": 20
        }
      ]
    },
    {
      "cell_type": "code",
      "metadata": {
        "id": "0sVbWnQj4Rhk"
      },
      "source": [
        "res = {}\n",
        "mo = DecisionTreeClassifier(criterion= 'gini', max_depth = 6, max_features = 'auto', random_state = 123, splitter = 'best').fit(rfe_dt_df_train,y_train)\n",
        "ypred = model.predict(rfe_dt_df_test)\n",
        "res['model'] = 'DT + SMOTE + RFE + GridSearch'\n",
        "res['Train_Score'] = mo.score(rfe_dt_df_train,y_train)\n",
        "res['Test_accuracy'] = metrics.accuracy_score(y_test,ypred)\n",
        "res['f1score'] = metrics.f1_score(y_test,ypred)\n",
        "res['recall'] = metrics.recall_score(y_test, ypred)\n",
        "res['precision'] = metrics.precision_score(y_test, ypred)\n",
        "mo.predict_proba(rfe_dt_df_test)\n",
        "res['roc_auc'] = metrics.roc_auc_score(y_test,ypred)\n",
        "\n",
        "results.append(res)"
      ],
      "execution_count": null,
      "outputs": []
    },
    {
      "cell_type": "code",
      "metadata": {
        "colab": {
          "base_uri": "https://localhost:8080/",
          "height": 257
        },
        "id": "StbqLjj8xvrv",
        "outputId": "061cd4ea-455a-46b3-947d-5ffd542ee27f"
      },
      "source": [
        "pd.DataFrame(results)"
      ],
      "execution_count": null,
      "outputs": [
        {
          "output_type": "execute_result",
          "data": {
            "text/html": [
              "<div>\n",
              "<style scoped>\n",
              "    .dataframe tbody tr th:only-of-type {\n",
              "        vertical-align: middle;\n",
              "    }\n",
              "\n",
              "    .dataframe tbody tr th {\n",
              "        vertical-align: top;\n",
              "    }\n",
              "\n",
              "    .dataframe thead th {\n",
              "        text-align: right;\n",
              "    }\n",
              "</style>\n",
              "<table border=\"1\" class=\"dataframe\">\n",
              "  <thead>\n",
              "    <tr style=\"text-align: right;\">\n",
              "      <th></th>\n",
              "      <th>model</th>\n",
              "      <th>Train_Score</th>\n",
              "      <th>Test_accuracy</th>\n",
              "      <th>f1score</th>\n",
              "      <th>recall</th>\n",
              "      <th>precision</th>\n",
              "      <th>roc_auc</th>\n",
              "    </tr>\n",
              "  </thead>\n",
              "  <tbody>\n",
              "    <tr>\n",
              "      <th>0</th>\n",
              "      <td>Basic DT</td>\n",
              "      <td>1.000000</td>\n",
              "      <td>0.947619</td>\n",
              "      <td>0.666667</td>\n",
              "      <td>0.916667</td>\n",
              "      <td>0.523810</td>\n",
              "      <td>0.933081</td>\n",
              "    </tr>\n",
              "    <tr>\n",
              "      <th>1</th>\n",
              "      <td>Basic DT - Grid search</td>\n",
              "      <td>0.968153</td>\n",
              "      <td>0.961905</td>\n",
              "      <td>0.733333</td>\n",
              "      <td>0.916667</td>\n",
              "      <td>0.611111</td>\n",
              "      <td>0.940657</td>\n",
              "    </tr>\n",
              "    <tr>\n",
              "      <th>2</th>\n",
              "      <td>DT - SMOTE - Default</td>\n",
              "      <td>1.000000</td>\n",
              "      <td>0.942857</td>\n",
              "      <td>0.647059</td>\n",
              "      <td>0.916667</td>\n",
              "      <td>0.500000</td>\n",
              "      <td>0.930556</td>\n",
              "    </tr>\n",
              "    <tr>\n",
              "      <th>3</th>\n",
              "      <td>DT - SMOTE - Grid Search</td>\n",
              "      <td>0.983788</td>\n",
              "      <td>0.961905</td>\n",
              "      <td>0.750000</td>\n",
              "      <td>1.000000</td>\n",
              "      <td>0.600000</td>\n",
              "      <td>0.979798</td>\n",
              "    </tr>\n",
              "    <tr>\n",
              "      <th>4</th>\n",
              "      <td>DT + RFE + SMOTE</td>\n",
              "      <td>1.000000</td>\n",
              "      <td>0.947619</td>\n",
              "      <td>0.666667</td>\n",
              "      <td>0.916667</td>\n",
              "      <td>0.523810</td>\n",
              "      <td>0.933081</td>\n",
              "    </tr>\n",
              "    <tr>\n",
              "      <th>5</th>\n",
              "      <td>DT + RFE</td>\n",
              "      <td>1.000000</td>\n",
              "      <td>0.952381</td>\n",
              "      <td>0.687500</td>\n",
              "      <td>0.916667</td>\n",
              "      <td>0.550000</td>\n",
              "      <td>0.935606</td>\n",
              "    </tr>\n",
              "    <tr>\n",
              "      <th>6</th>\n",
              "      <td>DT + SMOTE + RFE + GridSearch</td>\n",
              "      <td>0.979299</td>\n",
              "      <td>0.952381</td>\n",
              "      <td>0.687500</td>\n",
              "      <td>0.916667</td>\n",
              "      <td>0.550000</td>\n",
              "      <td>0.935606</td>\n",
              "    </tr>\n",
              "  </tbody>\n",
              "</table>\n",
              "</div>"
            ],
            "text/plain": [
              "                           model  Train_Score  ...  precision   roc_auc\n",
              "0                       Basic DT     1.000000  ...   0.523810  0.933081\n",
              "1         Basic DT - Grid search     0.968153  ...   0.611111  0.940657\n",
              "2           DT - SMOTE - Default     1.000000  ...   0.500000  0.930556\n",
              "3       DT - SMOTE - Grid Search     0.983788  ...   0.600000  0.979798\n",
              "4               DT + RFE + SMOTE     1.000000  ...   0.523810  0.933081\n",
              "5                       DT + RFE     1.000000  ...   0.550000  0.935606\n",
              "6  DT + SMOTE + RFE + GridSearch     0.979299  ...   0.550000  0.935606\n",
              "\n",
              "[7 rows x 7 columns]"
            ]
          },
          "metadata": {
            "tags": []
          },
          "execution_count": 24
        }
      ]
    },
    {
      "cell_type": "markdown",
      "metadata": {
        "id": "iI2BdHUdyIlU"
      },
      "source": [
        "# Bagging classifier; hyper tuned decision tree"
      ]
    },
    {
      "cell_type": "code",
      "metadata": {
        "id": "ZinuZvDK44gb"
      },
      "source": [
        "res = {}\n",
        "model = BaggingClassifier(base_estimator = DecisionTreeClassifier(criterion= 'gini', max_depth = 6, max_features = 'auto', random_state = 123, splitter = 'random')).fit(rfe_dt_df_train, y_train)\n",
        "ypred = model.predict(rfe_dt_df_test)\n",
        "res['model'] = 'Bagged Decision Tree with Hyperparameter'\n",
        "res['Train_Score'] = model.score(rfe_dt_df_train,y_train)\n",
        "res['Test_accuracy'] = metrics.accuracy_score(y_test,ypred)\n",
        "res['f1score'] = metrics.f1_score(y_test,ypred)\n",
        "res['recall'] = metrics.recall_score(y_test, ypred)\n",
        "res['precision'] = metrics.precision_score(y_test, ypred)\n",
        "model.predict_proba(rfe_dt_df_test)\n",
        "res['roc_auc'] = metrics.roc_auc_score(y_test,ypred)\n",
        "results.append(res)"
      ],
      "execution_count": null,
      "outputs": []
    },
    {
      "cell_type": "markdown",
      "metadata": {
        "id": "Tr86CxWZFoxn"
      },
      "source": [
        "AdaBoost based on decision tree"
      ]
    },
    {
      "cell_type": "code",
      "metadata": {
        "id": "KVha77k75IlZ"
      },
      "source": [
        "res = {}\n",
        "model = AdaBoostClassifier(base_estimator = DecisionTreeClassifier(criterion= 'gini', max_depth = 6, max_features = 'auto', random_state = 123, splitter = 'random')).fit(rfe_dt_df_train, y_train)\n",
        "ypred = model.predict(rfe_dt_df_test)\n",
        "res['model'] = 'Decision Tree ADA Boost with Hyperparameter'\n",
        "res['Train_Score'] = model.score(rfe_dt_df_train,y_train)\n",
        "res['Test_accuracy'] = metrics.accuracy_score(y_test,ypred)\n",
        "res['f1score'] = metrics.f1_score(y_test,ypred)\n",
        "res['recall'] = metrics.recall_score(y_test, ypred)\n",
        "res['precision'] = metrics.precision_score(y_test, ypred)\n",
        "model.predict_proba(rfe_dt_df_test)\n",
        "res['roc_auc'] = metrics.roc_auc_score(y_test,ypred)\n",
        "\n",
        "results.append(res)"
      ],
      "execution_count": null,
      "outputs": []
    },
    {
      "cell_type": "code",
      "metadata": {
        "id": "EMn0Nt3a5U32"
      },
      "source": [
        "res = {}\n",
        "model = GradientBoostingClassifier(learning_rate=0.01,random_state=1).fit(rfe_dt_df_train, y_train)\n",
        "ypred = model.predict(rfe_dt_df_test)\n",
        "res['model'] = 'Gradient Boost'\n",
        "res['Train_Score'] = model.score(rfe_dt_df_train,y_train)\n",
        "res['Test_accuracy'] = metrics.accuracy_score(y_test,ypred)\n",
        "res['f1score'] = metrics.f1_score(y_test,ypred)\n",
        "res['recall'] = metrics.recall_score(y_test, ypred)\n",
        "res['precision'] = metrics.precision_score(y_test, ypred)\n",
        "model.predict_proba(rfe_dt_df_test)\n",
        "res['roc_auc'] = metrics.roc_auc_score(y_test,ypred)\n",
        "\n",
        "results.append(res)"
      ],
      "execution_count": null,
      "outputs": []
    },
    {
      "cell_type": "code",
      "metadata": {
        "colab": {
          "base_uri": "https://localhost:8080/",
          "height": 347
        },
        "id": "IjkCa6q05W_U",
        "outputId": "9a686168-e41d-4d96-a32b-ab3534332137"
      },
      "source": [
        "pd.DataFrame(results)"
      ],
      "execution_count": null,
      "outputs": [
        {
          "output_type": "execute_result",
          "data": {
            "text/html": [
              "<div>\n",
              "<style scoped>\n",
              "    .dataframe tbody tr th:only-of-type {\n",
              "        vertical-align: middle;\n",
              "    }\n",
              "\n",
              "    .dataframe tbody tr th {\n",
              "        vertical-align: top;\n",
              "    }\n",
              "\n",
              "    .dataframe thead th {\n",
              "        text-align: right;\n",
              "    }\n",
              "</style>\n",
              "<table border=\"1\" class=\"dataframe\">\n",
              "  <thead>\n",
              "    <tr style=\"text-align: right;\">\n",
              "      <th></th>\n",
              "      <th>model</th>\n",
              "      <th>Train_Score</th>\n",
              "      <th>Test_accuracy</th>\n",
              "      <th>f1score</th>\n",
              "      <th>recall</th>\n",
              "      <th>precision</th>\n",
              "      <th>roc_auc</th>\n",
              "    </tr>\n",
              "  </thead>\n",
              "  <tbody>\n",
              "    <tr>\n",
              "      <th>0</th>\n",
              "      <td>Basic DT</td>\n",
              "      <td>1.000000</td>\n",
              "      <td>0.947619</td>\n",
              "      <td>0.666667</td>\n",
              "      <td>0.916667</td>\n",
              "      <td>0.523810</td>\n",
              "      <td>0.933081</td>\n",
              "    </tr>\n",
              "    <tr>\n",
              "      <th>1</th>\n",
              "      <td>Basic DT - Grid search</td>\n",
              "      <td>0.968153</td>\n",
              "      <td>0.961905</td>\n",
              "      <td>0.733333</td>\n",
              "      <td>0.916667</td>\n",
              "      <td>0.611111</td>\n",
              "      <td>0.940657</td>\n",
              "    </tr>\n",
              "    <tr>\n",
              "      <th>2</th>\n",
              "      <td>DT - SMOTE - Default</td>\n",
              "      <td>1.000000</td>\n",
              "      <td>0.942857</td>\n",
              "      <td>0.647059</td>\n",
              "      <td>0.916667</td>\n",
              "      <td>0.500000</td>\n",
              "      <td>0.930556</td>\n",
              "    </tr>\n",
              "    <tr>\n",
              "      <th>3</th>\n",
              "      <td>DT - SMOTE - Grid Search</td>\n",
              "      <td>0.983788</td>\n",
              "      <td>0.961905</td>\n",
              "      <td>0.750000</td>\n",
              "      <td>1.000000</td>\n",
              "      <td>0.600000</td>\n",
              "      <td>0.979798</td>\n",
              "    </tr>\n",
              "    <tr>\n",
              "      <th>4</th>\n",
              "      <td>DT + RFE + SMOTE</td>\n",
              "      <td>1.000000</td>\n",
              "      <td>0.947619</td>\n",
              "      <td>0.666667</td>\n",
              "      <td>0.916667</td>\n",
              "      <td>0.523810</td>\n",
              "      <td>0.933081</td>\n",
              "    </tr>\n",
              "    <tr>\n",
              "      <th>5</th>\n",
              "      <td>DT + RFE</td>\n",
              "      <td>1.000000</td>\n",
              "      <td>0.952381</td>\n",
              "      <td>0.687500</td>\n",
              "      <td>0.916667</td>\n",
              "      <td>0.550000</td>\n",
              "      <td>0.935606</td>\n",
              "    </tr>\n",
              "    <tr>\n",
              "      <th>6</th>\n",
              "      <td>DT + SMOTE + RFE + GridSearch</td>\n",
              "      <td>0.979299</td>\n",
              "      <td>0.952381</td>\n",
              "      <td>0.687500</td>\n",
              "      <td>0.916667</td>\n",
              "      <td>0.550000</td>\n",
              "      <td>0.935606</td>\n",
              "    </tr>\n",
              "    <tr>\n",
              "      <th>7</th>\n",
              "      <td>Bagged Decision Tree with Hyperparameter</td>\n",
              "      <td>0.979299</td>\n",
              "      <td>0.952381</td>\n",
              "      <td>0.615385</td>\n",
              "      <td>0.666667</td>\n",
              "      <td>0.571429</td>\n",
              "      <td>0.818182</td>\n",
              "    </tr>\n",
              "    <tr>\n",
              "      <th>8</th>\n",
              "      <td>Decision Tree ADA Boost with Hyperparameter</td>\n",
              "      <td>1.000000</td>\n",
              "      <td>0.952381</td>\n",
              "      <td>0.666667</td>\n",
              "      <td>0.833333</td>\n",
              "      <td>0.555556</td>\n",
              "      <td>0.896465</td>\n",
              "    </tr>\n",
              "    <tr>\n",
              "      <th>9</th>\n",
              "      <td>Gradient Boost</td>\n",
              "      <td>0.979299</td>\n",
              "      <td>0.961905</td>\n",
              "      <td>0.714286</td>\n",
              "      <td>0.833333</td>\n",
              "      <td>0.625000</td>\n",
              "      <td>0.901515</td>\n",
              "    </tr>\n",
              "  </tbody>\n",
              "</table>\n",
              "</div>"
            ],
            "text/plain": [
              "                                         model  ...   roc_auc\n",
              "0                                     Basic DT  ...  0.933081\n",
              "1                       Basic DT - Grid search  ...  0.940657\n",
              "2                         DT - SMOTE - Default  ...  0.930556\n",
              "3                     DT - SMOTE - Grid Search  ...  0.979798\n",
              "4                             DT + RFE + SMOTE  ...  0.933081\n",
              "5                                     DT + RFE  ...  0.935606\n",
              "6                DT + SMOTE + RFE + GridSearch  ...  0.935606\n",
              "7     Bagged Decision Tree with Hyperparameter  ...  0.818182\n",
              "8  Decision Tree ADA Boost with Hyperparameter  ...  0.896465\n",
              "9                               Gradient Boost  ...  0.901515\n",
              "\n",
              "[10 rows x 7 columns]"
            ]
          },
          "metadata": {
            "tags": []
          },
          "execution_count": 29
        }
      ]
    },
    {
      "cell_type": "markdown",
      "metadata": {
        "id": "pRWuJkfOhs9h"
      },
      "source": [
        "# Feature importance"
      ]
    },
    {
      "cell_type": "code",
      "metadata": {
        "colab": {
          "base_uri": "https://localhost:8080/",
          "height": 441
        },
        "id": "AcXiVIKnhstp",
        "outputId": "0ef1b36d-84cd-41f8-eda7-8fa00e026960"
      },
      "source": [
        "fig = plt.figure(figsize=(15,6))\n",
        "# Feature importance for Decision Tree\n",
        "basic_dt.fit(x_train, y_train)\n",
        "basic_dt.score(x_test, y_test)\n",
        "\n",
        "ax2 = fig.add_subplot(121)\n",
        "skplt.estimators.plot_feature_importances(basic_dt, feature_names=x.columns,\n",
        "                                          title=\"Feature Importance using Decision Tree\",\n",
        "                                          x_tick_rotation=90, ax=ax2);\n",
        "plt.tight_layout()"
      ],
      "execution_count": null,
      "outputs": [
        {
          "output_type": "display_data",
          "data": {
            "image/png": "[encoded data removed]",
            "text/plain": [
              "<Figure size 1080x432 with 1 Axes>"
            ]
          },
          "metadata": {
            "tags": [],
            "needs_background": "light"
          }
        }
      ]
    },
    {
      "cell_type": "markdown",
      "metadata": {
        "id": "o6gkoeydim4x"
      },
      "source": [
        "# PCA"
      ]
    },
    {
      "cell_type": "code",
      "metadata": {
        "colab": {
          "base_uri": "https://localhost:8080/",
          "height": 404
        },
        "id": "_mXPKf8eipmk",
        "outputId": "8d0f954d-7791-4175-e706-4689a0e18f8a"
      },
      "source": [
        "#PCA Components Explained Variance\n",
        "pca = PCA(random_state=1)\n",
        "pca.fit(x_train)\n",
        "\n",
        "skplt.decomposition.plot_pca_component_variance(pca, figsize=(8,6));"
      ],
      "execution_count": null,
      "outputs": [
        {
          "output_type": "display_data",
          "data": {
            "image/png": "[encoded data removed]",
            "text/plain": [
              "<Figure size 576x432 with 1 Axes>"
            ]
          },
          "metadata": {
            "tags": [],
            "needs_background": "light"
          }
        }
      ]
    },
    {
      "cell_type": "code",
      "metadata": {
        "colab": {
          "base_uri": "https://localhost:8080/",
          "height": 404
        },
        "id": "szgtReM-is5b",
        "outputId": "4fbdb627-29ee-4d02-a459-132fb184c36a"
      },
      "source": [
        "#PCA Components Explained Variance\n",
        "pca = PCA(random_state=1)\n",
        "pca.fit(x_train_s)\n",
        "\n",
        "skplt.decomposition.plot_pca_component_variance(pca, figsize=(8,6));"
      ],
      "execution_count": null,
      "outputs": [
        {
          "output_type": "display_data",
          "data": {
            "image/png": "[encoded data removed]",
            "text/plain": [
              "<Figure size 576x432 with 1 Axes>"
            ]
          },
          "metadata": {
            "tags": [],
            "needs_background": "light"
          }
        }
      ]
    },
    {
      "cell_type": "markdown",
      "metadata": {
        "id": "H0-cxGyXjmC7"
      },
      "source": [
        "# Feature selection using RFECV\n",
        "\n",
        "https://scikit-learn.org/stable/modules/generated/sklearn.feature_selection.RFECV.html"
      ]
    },
    {
      "cell_type": "code",
      "metadata": {
        "colab": {
          "base_uri": "https://localhost:8080/",
          "height": 316
        },
        "id": "kINRPuezjZKM",
        "outputId": "9b44af5d-a81e-41f9-81bd-75b3a61819d9"
      },
      "source": [
        "import matplotlib.pyplot as plt\n",
        "from sklearn.model_selection import StratifiedKFold\n",
        "from sklearn.feature_selection import RFECV\n",
        "from sklearn.datasets import make_classification\n",
        "\n",
        "\n",
        "min_features_to_select = 2  # Minimum number of features to consider\n",
        "rfecv = RFECV(estimator=basic_dt, step=1, cv=StratifiedKFold(2),\n",
        "              scoring='accuracy',\n",
        "              min_features_to_select=min_features_to_select)\n",
        "rfecv.fit(x, y)\n",
        "\n",
        "print(\"Optimal number of features : %d\" % rfecv.n_features_)\n",
        "\n",
        "# Plot number of features VS. cross-validation scores\n",
        "plt.figure()\n",
        "plt.xlabel(\"Number of features selected\")\n",
        "plt.ylabel(\"Cross validation score (nb of correct classifications)\")\n",
        "plt.plot(range(min_features_to_select,\n",
        "               len(rfecv.grid_scores_) + min_features_to_select),\n",
        "         rfecv.grid_scores_)\n",
        "plt.show()"
      ],
      "execution_count": null,
      "outputs": [
        {
          "output_type": "stream",
          "text": [
            "Optimal number of features : 22\n"
          ],
          "name": "stdout"
        },
        {
          "output_type": "display_data",
          "data": {
            "image/png": "[encoded data removed]",
            "text/plain": [
              "<Figure size 432x288 with 1 Axes>"
            ]
          },
          "metadata": {
            "tags": [],
            "needs_background": "light"
          }
        }
      ]
    },
    {
      "cell_type": "markdown",
      "metadata": {
        "id": "emzY4dkmyitB"
      },
      "source": [
        "# Best classifier : DT + SMOTE + GRID SEARCH\n"
      ]
    },
    {
      "cell_type": "markdown",
      "metadata": {
        "id": "SDIsfaHGypp1"
      },
      "source": [
        "## Plot metrics\n"
      ]
    },
    {
      "cell_type": "code",
      "metadata": {
        "colab": {
          "base_uri": "https://localhost:8080/",
          "height": 382
        },
        "id": "hI14sMyXyoyE",
        "outputId": "26cb47b9-a06c-4257-fd0a-f7378fc823d2"
      },
      "source": [
        "best = DecisionTreeClassifier(criterion= 'gini', max_depth = 5, max_features = 'auto', random_state = 123, splitter = 'best').fit(x_train_s,y_train_s)\n",
        "Y_test_pred = best.predict(x_test)\n",
        "\n",
        "fig = plt.figure(figsize=(15,6))\n",
        "ax1 = fig.add_subplot(121)\n",
        "skplt.metrics.plot_confusion_matrix(y_test, Y_test_pred, title=\"Confusion Matrix of DT\", cmap=\"Oranges\", ax=ax1)\n",
        "\n",
        "ax2 = fig.add_subplot(122)\n",
        "skplt.metrics.plot_confusion_matrix(y_test, Y_test_pred, normalize=True, title=\"Confusion Matrix Normalized of DT\", cmap=\"Purples\", ax=ax2);"
      ],
      "execution_count": null,
      "outputs": [
        {
          "output_type": "display_data",
          "data": {
            "image/png": "[encoded data removed]",
            "text/plain": [
              "<Figure size 1080x432 with 4 Axes>"
            ]
          },
          "metadata": {
            "tags": [],
            "needs_background": "light"
          }
        }
      ]
    },
    {
      "cell_type": "code",
      "metadata": {
        "colab": {
          "base_uri": "https://localhost:8080/",
          "height": 403
        },
        "id": "ohfpSfaZziHy",
        "outputId": "4e0f025b-b757-4dc4-ea72-7eb1cbf4ca1b"
      },
      "source": [
        "Y_test_probs = best.predict_proba(x_test)\n",
        "\n",
        "skplt.metrics.plot_roc_curve(y_test, Y_test_probs,title=\"ROC AUC Curve for DT\", figsize=(12,6));"
      ],
      "execution_count": null,
      "outputs": [
        {
          "output_type": "display_data",
          "data": {
            "image/png": "[encoded data removed]",
            "text/plain": [
              "<Figure size 864x432 with 1 Axes>"
            ]
          },
          "metadata": {
            "tags": [],
            "needs_background": "light"
          }
        }
      ]
    },
    {
      "cell_type": "code",
      "metadata": {
        "colab": {
          "base_uri": "https://localhost:8080/",
          "height": 403
        },
        "id": "szkMWZU5zyFQ",
        "outputId": "2a6a1998-eb53-4fab-816e-3c26fb6ef110"
      },
      "source": [
        "Y_test_probs = best.predict_proba(x_test)\n",
        "\n",
        "skplt.metrics.plot_precision_recall_curve(y_test, Y_test_probs, title=\"Precision-Recall Curve for DT\", figsize=(12,6));"
      ],
      "execution_count": null,
      "outputs": [
        {
          "output_type": "display_data",
          "data": {
            "image/png": "[encoded data removed]",
            "text/plain": [
              "<Figure size 864x432 with 1 Axes>"
            ]
          },
          "metadata": {
            "tags": [],
            "needs_background": "light"
          }
        }
      ]
    }
  ]
}